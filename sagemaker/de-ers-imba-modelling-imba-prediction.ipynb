{
 "cells": [
  {
   "cell_type": "code",
   "execution_count": 1,
   "id": "2a7f6015-e61a-4322-a317-559e240791b0",
   "metadata": {
    "tags": []
   },
   "outputs": [
    {
     "name": "stdout",
     "output_type": "stream",
     "text": [
      "Looking in indexes: https://pypi.org/simple, https://pip.repos.neuron.amazonaws.com\n",
      "Collecting scikit-surprise\n",
      "  Downloading scikit-surprise-1.1.3.tar.gz (771 kB)\n",
      "\u001b[2K     \u001b[90m━━━━━━━━━━━━━━━━━━━━━━━━━━━━━━━━━━━━━━━\u001b[0m \u001b[32m772.0/772.0 kB\u001b[0m \u001b[31m7.5 MB/s\u001b[0m eta \u001b[36m0:00:00\u001b[0m00:01\u001b[0m\n",
      "\u001b[?25h  Preparing metadata (setup.py) ... \u001b[?25ldone\n",
      "\u001b[?25hRequirement already satisfied: joblib>=1.0.0 in /home/ec2-user/anaconda3/envs/python3/lib/python3.10/site-packages (from scikit-surprise) (1.2.0)\n",
      "Requirement already satisfied: numpy>=1.17.3 in /home/ec2-user/anaconda3/envs/python3/lib/python3.10/site-packages (from scikit-surprise) (1.22.3)\n",
      "Requirement already satisfied: scipy>=1.3.2 in /home/ec2-user/anaconda3/envs/python3/lib/python3.10/site-packages (from scikit-surprise) (1.10.0)\n",
      "Building wheels for collected packages: scikit-surprise\n",
      "  Building wheel for scikit-surprise (setup.py) ... \u001b[?25ldone\n",
      "\u001b[?25h  Created wheel for scikit-surprise: filename=scikit_surprise-1.1.3-cp310-cp310-linux_x86_64.whl size=1178896 sha256=d020a9263e31c25554d277e3f32726161cf0f9833f73a188bdbd84fb97ba5b3b\n",
      "  Stored in directory: /home/ec2-user/.cache/pip/wheels/df/e4/a6/7ad72453dd693f420b0c639bedeec34641738d11b55d8d9b84\n",
      "Successfully built scikit-surprise\n",
      "Installing collected packages: scikit-surprise\n",
      "Successfully installed scikit-surprise-1.1.3\n"
     ]
    }
   ],
   "source": [
    "import json\n",
    "import boto3\n",
    "import psycopg2\n",
    "from psycopg2.extras import execute_batch\n",
    "import csv\n",
    "import pandas as pd\n",
    "import numpy as np\n",
    "from datetime import datetime\n",
    "!pip install scikit-surprise\n",
    "from surprise import Reader, Dataset, SVD\n",
    "from surprise.model_selection.validation import cross_validate"
   ]
  },
  {
   "attachments": {},
   "cell_type": "markdown",
   "id": "627313c2",
   "metadata": {},
   "source": [
    "### Part1: Modelling\n",
    "> Data Flow: featues from S3 Glue Output Bucket to S3 SageMaker Output Bucket"
   ]
  },
  {
   "cell_type": "code",
   "execution_count": 2,
   "id": "8dd03984-5cd2-4d64-b58d-429bce9edafc",
   "metadata": {
    "tags": []
   },
   "outputs": [
    {
     "data": {
      "text/plain": [
       "'part-00000-1b211f7a-b237-4eda-afc6-9b04ce77ea3a-c000.csv'"
      ]
     },
     "execution_count": 2,
     "metadata": {},
     "output_type": "execute_result"
    }
   ],
   "source": [
    "# Get latest folder/filename\n",
    "s3 = boto3.client(\"s3\")\n",
    "bucket = 'de-ers.imba-glue-output'\n",
    "output_bucket = 'de-ers.imba-sagemaker-output'\n",
    "\n",
    "# Read latest files in bucket\n",
    "response = s3.list_objects_v2(Bucket=bucket)\n",
    "sorted_obj = sorted(response['Contents'], key=lambda obj: obj['LastModified'], reverse=True)\n",
    "folder = sorted_obj[0]['Key'].split('/')[0]\n",
    "filename = sorted_obj[0]['Key'].split('/')[1]\n",
    "\n",
    "filename"
   ]
  },
  {
   "cell_type": "code",
   "execution_count": 3,
   "id": "fa1163ab-4a68-463b-aee8-7aeb9fc9de5c",
   "metadata": {
    "tags": []
   },
   "outputs": [],
   "source": [
    "# Read csv into dataframe\n",
    "df = pd.read_csv(f's3://{bucket}/{folder}/{filename}', nrows=2000000, usecols=['user_id', 'product_id', 'user_reorder_ratio', 'product_seq_time_1', 'product_seq_time_2'])\n",
    "\n",
    "# Get reorder probability by dividing second time reorder by first time reorder\n",
    "# Higher reorder probability means higher rank on the product\n",
    "df['reorder_prob'] = df.product_seq_time_2 / df.product_seq_time_1\n",
    "df.drop(['user_reorder_ratio', 'product_seq_time_1', 'product_seq_time_2'], axis=1, inplace=True)\n",
    "\n",
    "# Categorize reorder probability (0 - 1) into 5 ranks\n",
    "# 0   - 0.2 -> 1\n",
    "# 0.2 - 0.4 -> 2\n",
    "# 0.4 - 0.6 -> 3\n",
    "# 0.6 - 0.8 -> 4\n",
    "# 0.8 - 1   -> 5\n",
    "df.loc[df['reorder_prob'] <= 0.2, 'reorder_prob'] = 1.0\n",
    "df.loc[df['reorder_prob'] <= 0.4, 'reorder_prob'] = 2.0\n",
    "df.loc[df['reorder_prob'] <= 0.6, 'reorder_prob'] = 3.0\n",
    "df.loc[df['reorder_prob'] <= 0.8, 'reorder_prob'] = 4.0\n",
    "df.loc[df['reorder_prob'] < 1.0, 'reorder_prob'] = 5.0"
   ]
  },
  {
   "cell_type": "code",
   "execution_count": 4,
   "id": "9a1e80d2-debd-4cd0-be8a-2b8e18069c4a",
   "metadata": {},
   "outputs": [
    {
     "name": "stdout",
     "output_type": "stream",
     "text": [
      "Evaluating RMSE, MAE of algorithm SVD on 5 split(s).\n",
      "\n",
      "                  Fold 1  Fold 2  Fold 3  Fold 4  Fold 5  Mean    Std     \n",
      "RMSE (testset)    0.0898  0.0907  0.0906  0.0903  0.0914  0.0906  0.0005  \n",
      "MAE (testset)     0.0398  0.0401  0.0400  0.0398  0.0401  0.0400  0.0001  \n",
      "Fit time          25.70   27.15   26.84   27.07   27.12   26.78   0.55    \n",
      "Test time         4.54    3.93    4.49    4.48    4.54    4.40    0.23    \n"
     ]
    },
    {
     "data": {
      "text/plain": [
       "{'test_rmse': array([0.08977942, 0.09067974, 0.09060268, 0.0903327 , 0.0914001 ]),\n",
       " 'test_mae': array([0.03982427, 0.04006724, 0.03998801, 0.03982578, 0.04009008]),\n",
       " 'fit_time': (25.70211100578308,\n",
       "  27.154389142990112,\n",
       "  26.844313621520996,\n",
       "  27.065598487854004,\n",
       "  27.115967988967896),\n",
       " 'test_time': (4.535582542419434,\n",
       "  3.9345719814300537,\n",
       "  4.492355823516846,\n",
       "  4.475348949432373,\n",
       "  4.542288780212402)}"
      ]
     },
     "execution_count": 4,
     "metadata": {},
     "output_type": "execute_result"
    }
   ],
   "source": [
    "# Load dataframe into reader, prepare for running ML model\n",
    "reader = Reader()\n",
    "data = Dataset.load_from_df(df[['user_id', 'product_id', 'reorder_prob']], reader)\n",
    "\n",
    "# Use SVD as ML model, and do cross validation to get  optimal set of parameters\n",
    "svd = SVD()\n",
    "cross_validate(svd, data, measures=['RMSE', 'MAE'], cv=5, verbose=True)"
   ]
  },
  {
   "cell_type": "code",
   "execution_count": 5,
   "id": "d85e8005-abb8-46b3-aacc-cc4157e38272",
   "metadata": {},
   "outputs": [
    {
     "data": {
      "text/plain": [
       "<surprise.prediction_algorithms.matrix_factorization.SVD at 0x7fdf758590f0>"
      ]
     },
     "execution_count": 5,
     "metadata": {},
     "output_type": "execute_result"
    }
   ],
   "source": [
    "# Traning dataset\n",
    "trainset = data.build_full_trainset()\n",
    "svd.fit(trainset)"
   ]
  },
  {
   "cell_type": "code",
   "execution_count": 7,
   "id": "69873d92-a0f1-48e0-b318-bd83e19b2c2e",
   "metadata": {},
   "outputs": [
    {
     "data": {
      "text/html": [
       "<div>\n",
       "<style scoped>\n",
       "    .dataframe tbody tr th:only-of-type {\n",
       "        vertical-align: middle;\n",
       "    }\n",
       "\n",
       "    .dataframe tbody tr th {\n",
       "        vertical-align: top;\n",
       "    }\n",
       "\n",
       "    .dataframe thead th {\n",
       "        text-align: right;\n",
       "    }\n",
       "</style>\n",
       "<table border=\"1\" class=\"dataframe\">\n",
       "  <thead>\n",
       "    <tr style=\"text-align: right;\">\n",
       "      <th></th>\n",
       "      <th>product_id</th>\n",
       "      <th>user_id</th>\n",
       "      <th>reorder_prob</th>\n",
       "      <th>Estimate_Score</th>\n",
       "    </tr>\n",
       "  </thead>\n",
       "  <tbody>\n",
       "    <tr>\n",
       "      <th>450855</th>\n",
       "      <td>23909</td>\n",
       "      <td>2712</td>\n",
       "      <td>4.0</td>\n",
       "      <td>3.964805</td>\n",
       "    </tr>\n",
       "    <tr>\n",
       "      <th>1231078</th>\n",
       "      <td>24852</td>\n",
       "      <td>2712</td>\n",
       "      <td>4.0</td>\n",
       "      <td>3.955884</td>\n",
       "    </tr>\n",
       "    <tr>\n",
       "      <th>118870</th>\n",
       "      <td>36431</td>\n",
       "      <td>2712</td>\n",
       "      <td>3.0</td>\n",
       "      <td>3.007014</td>\n",
       "    </tr>\n",
       "    <tr>\n",
       "      <th>338257</th>\n",
       "      <td>44536</td>\n",
       "      <td>2712</td>\n",
       "      <td>3.0</td>\n",
       "      <td>3.004192</td>\n",
       "    </tr>\n",
       "    <tr>\n",
       "      <th>1636182</th>\n",
       "      <td>46347</td>\n",
       "      <td>2712</td>\n",
       "      <td>3.0</td>\n",
       "      <td>2.976843</td>\n",
       "    </tr>\n",
       "    <tr>\n",
       "      <th>1520297</th>\n",
       "      <td>20955</td>\n",
       "      <td>2712</td>\n",
       "      <td>3.0</td>\n",
       "      <td>2.974023</td>\n",
       "    </tr>\n",
       "    <tr>\n",
       "      <th>333302</th>\n",
       "      <td>41246</td>\n",
       "      <td>2712</td>\n",
       "      <td>3.0</td>\n",
       "      <td>2.894641</td>\n",
       "    </tr>\n",
       "    <tr>\n",
       "      <th>1369000</th>\n",
       "      <td>2475</td>\n",
       "      <td>2712</td>\n",
       "      <td>2.0</td>\n",
       "      <td>2.064329</td>\n",
       "    </tr>\n",
       "    <tr>\n",
       "      <th>767484</th>\n",
       "      <td>2934</td>\n",
       "      <td>2712</td>\n",
       "      <td>2.0</td>\n",
       "      <td>2.062262</td>\n",
       "    </tr>\n",
       "    <tr>\n",
       "      <th>928997</th>\n",
       "      <td>45764</td>\n",
       "      <td>2712</td>\n",
       "      <td>2.0</td>\n",
       "      <td>2.055053</td>\n",
       "    </tr>\n",
       "    <tr>\n",
       "      <th>4</th>\n",
       "      <td>12</td>\n",
       "      <td>2712</td>\n",
       "      <td>2.0</td>\n",
       "      <td>2.032414</td>\n",
       "    </tr>\n",
       "    <tr>\n",
       "      <th>991634</th>\n",
       "      <td>1964</td>\n",
       "      <td>2712</td>\n",
       "      <td>2.0</td>\n",
       "      <td>2.014522</td>\n",
       "    </tr>\n",
       "    <tr>\n",
       "      <th>1389978</th>\n",
       "      <td>7736</td>\n",
       "      <td>2712</td>\n",
       "      <td>2.0</td>\n",
       "      <td>2.009150</td>\n",
       "    </tr>\n",
       "    <tr>\n",
       "      <th>1175544</th>\n",
       "      <td>19957</td>\n",
       "      <td>2712</td>\n",
       "      <td>2.0</td>\n",
       "      <td>1.959469</td>\n",
       "    </tr>\n",
       "    <tr>\n",
       "      <th>1873229</th>\n",
       "      <td>1845</td>\n",
       "      <td>2712</td>\n",
       "      <td>1.0</td>\n",
       "      <td>1.046338</td>\n",
       "    </tr>\n",
       "  </tbody>\n",
       "</table>\n",
       "</div>"
      ],
      "text/plain": [
       "         product_id  user_id  reorder_prob  Estimate_Score\n",
       "450855        23909     2712           4.0        3.964805\n",
       "1231078       24852     2712           4.0        3.955884\n",
       "118870        36431     2712           3.0        3.007014\n",
       "338257        44536     2712           3.0        3.004192\n",
       "1636182       46347     2712           3.0        2.976843\n",
       "1520297       20955     2712           3.0        2.974023\n",
       "333302        41246     2712           3.0        2.894641\n",
       "1369000        2475     2712           2.0        2.064329\n",
       "767484         2934     2712           2.0        2.062262\n",
       "928997        45764     2712           2.0        2.055053\n",
       "4                12     2712           2.0        2.032414\n",
       "991634         1964     2712           2.0        2.014522\n",
       "1389978        7736     2712           2.0        2.009150\n",
       "1175544       19957     2712           2.0        1.959469\n",
       "1873229        1845     2712           1.0        1.046338"
      ]
     },
     "execution_count": 7,
     "metadata": {},
     "output_type": "execute_result"
    }
   ],
   "source": [
    "titles = df.copy()\n",
    "titles['Estimate_Score'] = titles['product_id'].apply(lambda x: svd.predict(2712, x).est)\n",
    "titles = titles.sort_values(by=['Estimate_Score'], ascending=False)\n",
    "titles[titles['user_id'] == 2712]"
   ]
  },
  {
   "cell_type": "code",
   "execution_count": 8,
   "id": "9dd42df9-0850-48fa-adf9-eb92859dc2cb",
   "metadata": {},
   "outputs": [],
   "source": [
    "# Get top-3 recommendations based on user_id\n",
    "user_ids = df['user_id'].unique()\n",
    "recommendations = {}\n",
    "for user_id in user_ids:\n",
    "    user_item_df = titles[titles['user_id'] == user_id].head(3)\n",
    "    recommendations[str(user_id)] = user_item_df['product_id'].values.tolist()"
   ]
  },
  {
   "cell_type": "code",
   "execution_count": 9,
   "id": "34e95914-b63c-4858-b553-87c7912f8b58",
   "metadata": {
    "tags": []
   },
   "outputs": [
    {
     "data": {
      "text/plain": [
       "{'ResponseMetadata': {'RequestId': 'DVCB2Y319XHMBJ0C',\n",
       "  'HostId': 'FD/2Mi0qCskFboA1GB2vVyn1FWS9NS2PnQbqX6nlf+eX6mEu1PHEVPdUMegmJ/tsEvPAPVTDPjU=',\n",
       "  'HTTPStatusCode': 200,\n",
       "  'HTTPHeaders': {'x-amz-id-2': 'FD/2Mi0qCskFboA1GB2vVyn1FWS9NS2PnQbqX6nlf+eX6mEu1PHEVPdUMegmJ/tsEvPAPVTDPjU=',\n",
       "   'x-amz-request-id': 'DVCB2Y319XHMBJ0C',\n",
       "   'date': 'Fri, 19 May 2023 12:49:24 GMT',\n",
       "   'x-amz-server-side-encryption': 'AES256',\n",
       "   'etag': '\"50a266b83f3838a2976ec1329d6aa40d\"',\n",
       "   'server': 'AmazonS3',\n",
       "   'content-length': '0'},\n",
       "  'RetryAttempts': 0},\n",
       " 'ETag': '\"50a266b83f3838a2976ec1329d6aa40d\"',\n",
       " 'ServerSideEncryption': 'AES256'}"
      ]
     },
     "execution_count": 9,
     "metadata": {},
     "output_type": "execute_result"
    }
   ],
   "source": [
    "# Save results as a json file and store into S3 bucket\n",
    "output = 'recommendations-' + datetime.now().strftime('%Y-%m-%d-%H-%M-%S') + '.json'\n",
    "\n",
    "s3.put_object(Bucket=output_bucket, Key=output, Body=json.dumps(recommendations))"
   ]
  },
  {
   "cell_type": "code",
   "execution_count": 10,
   "id": "2617a60d-5aee-4407-a20c-16d041019860",
   "metadata": {
    "tags": []
   },
   "outputs": [],
   "source": [
    "# Define filenames, and prepare for loading json into RDS\n",
    "input_bucket = 'de-ers.imba-sagemaker-output'\n",
    "local_filename = 'recommendation.json'\n",
    "output_csv = 'recommendation.csv'\n",
    "\n",
    "# Get latest json file\n",
    "s3 = boto3.client('s3')\n",
    "response = s3.list_objects_v2(Bucket=input_bucket)\n",
    "json_filename = sorted(response['Contents'], key=lambda obj: obj['LastModified'], reverse=True)[0]['Key']\n",
    "\n",
    "# Download file\n",
    "s3.download_file(input_bucket, json_filename, local_filename)\n",
    "\n",
    "# Read json into a variable\n",
    "with open(local_filename, encoding='utf-8') as read:\n",
    "    json_data = json.load(read)"
   ]
  },
  {
   "attachments": {},
   "cell_type": "markdown",
   "id": "a88f025f",
   "metadata": {},
   "source": [
    "### Part2: Write Recommendation Back to RDS\n",
    "> Data Flow: from S3 Sagemaker Output Bucket to RDS recommendation schema as recommendation table"
   ]
  },
  {
   "cell_type": "code",
   "execution_count": 11,
   "id": "e67ac39b-a2d3-4091-b811-83e71ffe76c2",
   "metadata": {
    "tags": []
   },
   "outputs": [],
   "source": [
    "# Write Json to csv\n",
    "with open(output_csv, 'w', newline='') as csvfile:\n",
    "    w = csv.writer(csvfile)\n",
    "    w.writerow(['user_id', 'product_id', 'recommendation_count'])\n",
    "    \n",
    "    for k, v in json_data.items():\n",
    "        for value in v:\n",
    "            w.writerow([k, value, 0])"
   ]
  },
  {
   "cell_type": "code",
   "execution_count": 13,
   "id": "d0726cdc-e598-4dae-b77d-964cbba64bb0",
   "metadata": {
    "tags": []
   },
   "outputs": [],
   "source": [
    "# postgresql connection\n",
    "host = 'imba-rdsinstance-instance-1.cy4i5jen2oog.ap-southeast-2.rds.amazonaws.com'\n",
    "port = 5432\n",
    "database = 'postgres'\n",
    "username = '...'\n",
    "password = '...'\n",
    "\n",
    "conn = psycopg2.connect(\n",
    "    host = host,\n",
    "    port = port,\n",
    "    database = database,\n",
    "    user = username,\n",
    "    password = password\n",
    ")\n",
    "\n",
    "cur = conn.cursor()"
   ]
  },
  {
   "cell_type": "code",
   "execution_count": 14,
   "id": "8f07cee6-ed94-4e9a-bdfd-9cb64dbad251",
   "metadata": {
    "tags": []
   },
   "outputs": [],
   "source": [
    "# batch load into database\n",
    "data = []\n",
    "\n",
    "with open(output_csv, 'r') as f:\n",
    "    reader = csv.reader(f)\n",
    "    next(reader)\n",
    "    \n",
    "    for row in reader:\n",
    "        user_id, product_id, recommendation_count = row\n",
    "        data.append((user_id, product_id, recommendation_count))\n",
    "        \n",
    "query = f'insert into recommendation.recommendation values (%s, %s, %s) on conflict do nothing;'\n",
    "batch_size = 10000\n",
    "\n",
    "with conn.cursor() as cur:\n",
    "    execute_batch(cur, query, data, page_size=batch_size)\n",
    "    conn.commit()\n",
    "    \n",
    "# Close connection\n",
    "cur.close()\n",
    "conn.close()"
   ]
  }
 ],
 "metadata": {
  "kernelspec": {
   "display_name": "conda_python3",
   "language": "python",
   "name": "conda_python3"
  },
  "language_info": {
   "codemirror_mode": {
    "name": "ipython",
    "version": 3
   },
   "file_extension": ".py",
   "mimetype": "text/x-python",
   "name": "python",
   "nbconvert_exporter": "python",
   "pygments_lexer": "ipython3",
   "version": "3.10.8"
  }
 },
 "nbformat": 4,
 "nbformat_minor": 5
}
