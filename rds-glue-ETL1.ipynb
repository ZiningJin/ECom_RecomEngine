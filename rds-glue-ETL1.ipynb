{
	"metadata": {
		"kernelspec": {
			"name": "glue_pyspark",
			"display_name": "Glue PySpark",
			"language": "python"
		},
		"language_info": {
			"name": "Python_Glue_Session",
			"mimetype": "text/x-python",
			"codemirror_mode": {
				"name": "python",
				"version": 3
			},
			"pygments_lexer": "python3",
			"file_extension": ".py"
		}
	},
	"nbformat_minor": 4,
	"nbformat": 4,
	"cells": [
		{
			"cell_type": "markdown",
			"source": "# AWS Glue Studio Notebook\n##### You are now running a AWS Glue Studio notebook; To start using your notebook you need to start an AWS Glue Interactive Session.\n",
			"metadata": {
				"editable": true,
				"trusted": true
			}
		},
		{
			"cell_type": "markdown",
			"source": "#### Optional: Run this cell to see available notebook commands (\"magics\").\n",
			"metadata": {
				"editable": true,
				"trusted": true
			}
		},
		{
			"cell_type": "code",
			"source": "%help",
			"metadata": {
				"editable": true,
				"trusted": true
			},
			"execution_count": null,
			"outputs": []
		},
		{
			"cell_type": "markdown",
			"source": "####  Run this cell to set up and start your interactive session.\n",
			"metadata": {
				"editable": true,
				"trusted": true
			}
		},
		{
			"cell_type": "code",
			"source": "%idle_timeout 2880\n%glue_version 3.0\n%worker_type G.1X\n%number_of_workers 5\n\nimport sys\nfrom awsglue.transforms import *\nfrom awsglue.utils import getResolvedOptions\nfrom pyspark.context import SparkContext\nfrom awsglue.context import GlueContext\nfrom awsglue.job import Job\n  \nsc = SparkContext.getOrCreate()\nglueContext = GlueContext(sc)\nspark = glueContext.spark_session\njob = Job(glueContext)",
			"metadata": {
				"editable": true,
				"trusted": true
			},
			"execution_count": 1,
			"outputs": [
				{
					"name": "stdout",
					"text": "Welcome to the Glue Interactive Sessions Kernel\nFor more information on available magic commands, please type %help in any new cell.\n\nPlease view our Getting Started page to access the most up-to-date information on the Interactive Sessions kernel: https://docs.aws.amazon.com/glue/latest/dg/interactive-sessions.html\nInstalled kernel version: 0.37.0 \nCurrent idle_timeout is 2800 minutes.\nidle_timeout has been set to 2880 minutes.\nSetting Glue version to: 3.0\nPrevious worker type: G.1X\nSetting new worker type to: G.1X\nPrevious number of workers: 5\nSetting new number of workers to: 5\nAuthenticating with environment variables and user-defined glue_role_arn: arn:aws:iam::778725022589:role/AWSGlueServiceRole-charlie\nTrying to create a Glue session for the kernel.\nWorker Type: G.1X\nNumber of Workers: 5\nSession ID: b8f51bc2-c25b-4f7f-829a-ae8dbf63bb1c\nJob Type: glueetl\nApplying the following default arguments:\n--glue_kernel_version 0.37.0\n--enable-glue-datacatalog true\nWaiting for session b8f51bc2-c25b-4f7f-829a-ae8dbf63bb1c to get into ready status...\nSession b8f51bc2-c25b-4f7f-829a-ae8dbf63bb1c has been created.\n\n",
					"output_type": "stream"
				}
			]
		},
		{
			"cell_type": "code",
			"source": "# Define parameters\nfrom datetime import datetime\nnow = datetime.now().strftime('%Y-%m-%d-%H:%M:%S')\nbucket = 'imba-glue-output'\nfolder = 'sprint2-' + now\n\ndb = 'rdsdb'\naisles_table = 'postgres_public_aisles'\ndepartments_table = 'postgres_public_departments'\norders_table = 'postgres_public_orders'\nproducts_table = 'postgres_public_products'\norder_product_table = 'postgres_public_order_product'",
			"metadata": {
				"trusted": true
			},
			"execution_count": 3,
			"outputs": [
				{
					"name": "stdout",
					"text": "\n",
					"output_type": "stream"
				}
			]
		},
		{
			"cell_type": "markdown",
			"source": "### Create DynamicFrame and convert to SparkDF\n",
			"metadata": {
				"editable": true,
				"trusted": true
			}
		},
		{
			"cell_type": "code",
			"source": "aisles_df = glueContext.create_dynamic_frame.from_catalog(database=db, table_name=aisles_table).toDF()\ndepartments_df = glueContext.create_dynamic_frame.from_catalog(database=db, table_name=departments_table).toDF()\norders_df = glueContext.create_dynamic_frame.from_catalog(database=db, table_name=orders_table).toDF()\nproducts_df = glueContext.create_dynamic_frame.from_catalog(database=db, table_name=products_table).toDF()\norder_product_df = glueContext.create_dynamic_frame.from_catalog(database=db, table_name=order_product_table).toDF()",
			"metadata": {
				"editable": true,
				"trusted": true
			},
			"execution_count": 4,
			"outputs": [
				{
					"name": "stdout",
					"text": "\n",
					"output_type": "stream"
				}
			]
		},
		{
			"cell_type": "code",
			"source": "orders_df.show()",
			"metadata": {
				"editable": true,
				"trusted": true
			},
			"execution_count": 5,
			"outputs": [
				{
					"name": "stdout",
					"text": "+--------+-------+--------+------------+---------+-----------------+----------------------+\n|order_id|user_id|eval_set|order_number|order_dow|order_hour_of_day|days_since_prior_order|\n+--------+-------+--------+------------+---------+-----------------+----------------------+\n|  393748| 185277|   prior|          78|        1|                9|                   5.0|\n|  746725|  38109|    test|          13|        3|               16|                  10.0|\n| 2005551|  63647|   prior|           8|        6|               13|                  12.0|\n| 1910347|  76116|   prior|           6|        1|               16|                  15.0|\n| 1790456|  13736|   prior|          34|        0|               11|                   3.0|\n| 1409951| 184881|   prior|           8|        4|               10|                   2.0|\n| 2529361|   3777|   prior|          13|        1|               12|                   6.0|\n| 2420076|  22301|   prior|          36|        1|                9|                  14.0|\n| 3312174|  84953|   prior|           8|        6|               15|                   0.0|\n| 2657821| 103554|   prior|          24|        4|               13|                   3.0|\n| 1912264| 118079|   prior|           5|        4|               18|                  13.0|\n| 2221847| 197422|   train|          29|        1|               19|                   7.0|\n|  803196|  54669|   prior|          10|        4|               15|                   6.0|\n| 2363312| 164967|   prior|           1|        6|               15|                  null|\n| 2861363| 143245|   prior|          43|        3|               21|                   0.0|\n| 1721832| 115407|   prior|          10|        6|                7|                  15.0|\n|  421591| 176916|   prior|           8|        4|               10|                   6.0|\n| 1399569|  13406|   prior|          17|        4|               10|                   5.0|\n|  319032| 168890|   prior|          32|        4|               16|                   2.0|\n| 2596652|   7175|   prior|          14|        0|               21|                   1.0|\n+--------+-------+--------+------------+---------+-----------------+----------------------+\nonly showing top 20 rows\n",
					"output_type": "stream"
				}
			]
		},
		{
			"cell_type": "markdown",
			"source": "### create view of order_products_prior",
			"metadata": {}
		},
		{
			"cell_type": "code",
			"source": "orders_prior_df = orders_df.filter(orders_df['eval_set']=='prior')\njoined_order_product = orders_prior_df.join(order_product_df, 'order_id', 'left')\n\njoined_order_product.createOrReplaceTempView('order_products_prior')\norders_df.createOrReplaceTempView('orders_view')",
			"metadata": {
				"trusted": true
			},
			"execution_count": 6,
			"outputs": [
				{
					"name": "stdout",
					"text": "\n",
					"output_type": "stream"
				}
			]
		},
		{
			"cell_type": "markdown",
			"source": "### user_features_1\nBased on table orders, for each user, calculate the max order_number, the sum of days_since_prior_order and the average of days_since_prior_order",
			"metadata": {}
		},
		{
			"cell_type": "code",
			"source": "user_features_1 = spark.sql(\n    'select user_id, \\n'\n    'max(order_number) max_order_number, \\n'\n    'sum(days_since_prior_order) sum_days_since_prior_order, \\n'\n    'avg(days_since_prior_order) avg_days_since_prior_order \\n'\n    'from orders_view \\n'\n    'group by user_id;'\n)\nuser_features_1.show()",
			"metadata": {
				"trusted": true
			},
			"execution_count": 8,
			"outputs": [
				{
					"name": "stdout",
					"text": "+-------+----------------+--------------------------+--------------------------+\n|user_id|max_order_number|sum_days_since_prior_order|avg_days_since_prior_order|\n+-------+----------------+--------------------------+--------------------------+\n| 161074|              32|                     364.0|        11.741935483870968|\n| 190361|               9|                     171.0|                    21.375|\n| 114727|               6|                     107.0|                      21.4|\n|  97545|              17|                     169.0|                   10.5625|\n|  53568|              15|                     233.0|        16.642857142857142|\n| 110603|              28|                     319.0|        11.814814814814815|\n|  75389|              71|                     365.0|         5.214285714285714|\n| 205045|              55|                     364.0|        6.7407407407407405|\n| 120536|               9|                      74.0|                      9.25|\n| 184659|              32|                     286.0|         9.225806451612904|\n|  49646|              40|                     364.0|         9.333333333333334|\n|  45293|              15|                     226.0|        16.142857142857142|\n|  56185|              20|                     223.0|        11.736842105263158|\n| 119218|              27|                     250.0|         9.615384615384615|\n| 123062|              21|                     294.0|                      14.7|\n| 157390|               9|                     137.0|                    17.125|\n| 112030|              57|                     320.0|         5.714285714285714|\n|  97321|              32|                     301.0|         9.709677419354838|\n|  75493|              15|                     216.0|        15.428571428571429|\n|  82727|               7|                     136.0|        22.666666666666668|\n+-------+----------------+--------------------------+--------------------------+\nonly showing top 20 rows\n",
					"output_type": "stream"
				}
			]
		},
		{
			"cell_type": "markdown",
			"source": "### user_features_2\nBased on table order_products_prior, for each user calculate the total number of products, total number of distinct products, and user reorder ratio(number of reordered = 1 divided by number of order_number > 1)",
			"metadata": {}
		},
		{
			"cell_type": "code",
			"source": "user_features_2 = spark.sql(\n    'select user_id, \\n'\n    'count(product_id) total_products_by_userid, \\n'\n    'count(distinct(product_id)) total_distinct_products_by_userid, \\n'\n    'sum(reordered) / count(case when order_number > 1 then 1 else 0 end) user_reorder_ratio \\n'\n    'from order_products_prior \\n'\n    'group by user_id;'\n)\n\nuser_features_2.show()",
			"metadata": {
				"trusted": true
			},
			"execution_count": 10,
			"outputs": [
				{
					"name": "stdout",
					"text": "+-------+------------------------+---------------------------------+-------------------+\n|user_id|total_products_by_userid|total_distinct_products_by_userid| user_reorder_ratio|\n+-------+------------------------+---------------------------------+-------------------+\n|  97664|                     312|                               75| 0.7596153846153846|\n|  76863|                      48|                               25| 0.4791666666666667|\n|  29570|                     285|                              113| 0.6035087719298246|\n| 101099|                     427|                              104| 0.7564402810304449|\n|  91370|                     222|                              102| 0.5405405405405406|\n| 142249|                     449|                              124| 0.7238307349665924|\n| 149535|                      59|                                8|  0.864406779661017|\n| 166381|                     316|                              109| 0.6550632911392406|\n|  24609|                    1241|                              446| 0.6406124093473006|\n|  28483|                      82|                               73|0.10975609756097561|\n|  87026|                     649|                              145| 0.7765793528505393|\n|  17742|                    1017|                              259| 0.7453294001966568|\n|  10649|                     544|                              134| 0.7536764705882353|\n| 165000|                     136|                               53| 0.6102941176470589|\n|  74889|                     681|                              226| 0.6681350954478708|\n|   3387|                     220|                              119| 0.4590909090909091|\n|  76646|                     190|                               30| 0.8421052631578947|\n|  44474|                     139|                               88| 0.3669064748201439|\n| 158834|                     299|                               85| 0.7157190635451505|\n|  95403|                      67|                               55| 0.1791044776119403|\n+-------+------------------------+---------------------------------+-------------------+\nonly showing top 20 rows\n",
					"output_type": "stream"
				}
			]
		},
		{
			"cell_type": "markdown",
			"source": "### up_features\nBased on table order_products_prior, for each user and product, calculate the total number of orders, minimum order_number, maximum order_number and average add_to_cart_order",
			"metadata": {}
		},
		{
			"cell_type": "code",
			"source": "up_features = spark.sql(\n    'select user_id, product_id, \\n'\n    'count(order_id) total_orders_by_userprod, \\n'\n    'min(order_number) min_ordernumber_byuserprod, \\n'\n    'max(order_number) max_ordernumber_byuserprod, \\n'\n    'avg(add_to_cart_order) avg_addtocart_byuserprod \\n'\n    'from order_products_prior \\n'\n    'group by user_id, product_id;'\n)\n\nup_features.show()",
			"metadata": {
				"trusted": true
			},
			"execution_count": 11,
			"outputs": [
				{
					"name": "stdout",
					"text": "+-------+----------+------------------------+--------------------------+--------------------------+------------------------+\n|user_id|product_id|total_orders_by_userprod|min_ordernumber_byuserprod|max_ordernumber_byuserprod|avg_addtocart_byuserprod|\n+-------+----------+------------------------+--------------------------+--------------------------+------------------------+\n|   4645|     22124|                      28|                         1|                        76|      2.9285714285714284|\n|   7440|     13176|                      34|                         5|                        98|       7.176470588235294|\n|  30618|     22507|                      14|                         1|                        17|      3.7142857142857144|\n| 145501|     14267|                       7|                        11|                        27|                     9.0|\n|  58701|     13176|                       4|                        17|                        21|                    6.75|\n|  58701|     10070|                       4|                        17|                        21|                    6.25|\n| 160646|      2457|                      13|                         1|                        35|      3.3846153846153846|\n| 198708|     26209|                      11|                         1|                        34|      4.7272727272727275|\n|  63288|      7862|                      12|                         1|                        32|                     2.0|\n| 103166|     42536|                      21|                         1|                        48|       4.476190476190476|\n|  37804|      4562|                      22|                        11|                        63|       5.636363636363637|\n|  39460|      8710|                       3|                        84|                        89|      1.6666666666666667|\n|  39460|     42205|                       5|                         3|                        85|                     2.2|\n| 194758|     45504|                      23|                         1|                        31|       4.043478260869565|\n| 135836|     33493|                       1|                         1|                         1|                     5.0|\n| 185594|     30489|                       3|                        11|                        13|      10.666666666666666|\n| 185594|     35898|                       1|                        13|                        13|                    15.0|\n| 170906|     26369|                       1|                         2|                         2|                     7.0|\n|  73968|     19348|                      20|                         2|                        36|                     6.7|\n|  28585|     21938|                       4|                         1|                         8|                    3.75|\n+-------+----------+------------------------+--------------------------+--------------------------+------------------------+\nonly showing top 20 rows\n",
					"output_type": "stream"
				}
			]
		},
		{
			"cell_type": "markdown",
			"source": "### prd_features\nBased on table order_products_prior,\n- first write a sql query to calculate the sequence of product purchase for each user, and name it product_seq_time\n- Then on top of this query, for each product, calculate the count, sum of reordered, count of product_seq_time = 1 and count of product_seq_time = 2.",
			"metadata": {}
		},
		{
			"cell_type": "code",
			"source": "prd_features = spark.sql(\n    'with temp as ( \\n'\n    'select user_id, \\n'\n    'order_number, \\n'\n    'product_id, \\n'\n    'reordered, \\n'\n    'rank() over(partition by user_id, product_id order by order_number) product_seq_time \\n'\n     'from order_products_prior \\n'\n     ') \\n'\n     'select product_id, \\n'\n     'count(product_id) total_products_by_productid, \\n'\n     'sum(reordered) total_reordered, \\n'\n     'sum(case when product_seq_time = 1 then 1 else 0 end) product_seq_time_1, \\n'\n     'sum(case when product_seq_time = 2 then 1 else 0 end) product_seq_time_2 \\n'\n     'from temp \\n'\n     'group by product_id;')\n\nprd_features.show()",
			"metadata": {
				"trusted": true
			},
			"execution_count": 12,
			"outputs": [
				{
					"name": "stdout",
					"text": "+----------+---------------------------+---------------+------------------+------------------+\n|product_id|total_products_by_productid|total_reordered|product_seq_time_1|product_seq_time_2|\n+----------+---------------------------+---------------+------------------+------------------+\n|     19057|                      75165|          57201|             17964|             10647|\n|     21709|                      32788|          24403|              8385|              4859|\n|     24184|                      55280|          35013|             20267|             10313|\n|     40286|                         23|              5|                18|                 3|\n|     43721|                       1550|           1091|               459|               248|\n|     25397|                        201|             61|               140|                27|\n|     27138|                         73|             31|                42|                15|\n|     37192|                        906|            445|               461|               163|\n|      5210|                       1667|            703|               964|               308|\n|     28842|                      45530|          25877|             19653|              8945|\n|     47626|                     152657|         106255|             46402|             27195|\n|       890|                      21997|          10468|             11529|              4284|\n|       952|                        782|            139|               643|                84|\n|     19508|                      14905|           6681|              8224|              2869|\n|     31066|                      10774|           2341|              8433|              1463|\n|     37524|                      10101|           5219|              4882|              1862|\n|     41959|                        396|            242|               154|                56|\n|        29|                        218|             81|               137|                42|\n|     19164|                        104|             72|                32|                11|\n|       401|                        324|             94|               230|                53|\n+----------+---------------------------+---------------+------------------+------------------+\nonly showing top 20 rows\n",
					"output_type": "stream"
				}
			]
		},
		{
			"cell_type": "markdown",
			"source": "### make some joins of the above features\n- user_features_1 & user_features_2 join for user_features\n- user_features join up_features for user_up_features\n- user_up_features join prd_features for final_features",
			"metadata": {}
		},
		{
			"cell_type": "code",
			"source": "user_features = user_features_1.join(user_features_2, 'user_id', 'left')\nuser_up_features = user_features.join(up_features, 'user_id', 'left')\nfinal_features = user_up_features.join(prd_features, 'product_id', 'left')\n\nfinal_features.show()",
			"metadata": {
				"trusted": true
			},
			"execution_count": 13,
			"outputs": [
				{
					"name": "stdout",
					"text": "+----------+-------+----------------+--------------------------+--------------------------+------------------------+---------------------------------+-------------------+------------------------+--------------------------+--------------------------+------------------------+---------------------------+---------------+------------------+------------------+\n|product_id|user_id|max_order_number|sum_days_since_prior_order|avg_days_since_prior_order|total_products_by_userid|total_distinct_products_by_userid| user_reorder_ratio|total_orders_by_userprod|min_ordernumber_byuserprod|max_ordernumber_byuserprod|avg_addtocart_byuserprod|total_products_by_productid|total_reordered|product_seq_time_1|product_seq_time_2|\n+----------+-------+----------------+--------------------------+--------------------------+------------------------+---------------------------------+-------------------+------------------------+--------------------------+--------------------------+------------------------+---------------------------+---------------+------------------+------------------+\n|        28|   8712|              14|                     147.0|        11.307692307692308|                     125|                               58|              0.536|                       1|                         6|                         6|                    10.0|                        706|            369|               337|               123|\n|        28|  20740|              16|                     275.0|        18.333333333333332|                     193|                               76| 0.6062176165803109|                       2|                        12|                        15|                     1.0|                        706|            369|               337|               123|\n|        28|  33478|               9|                     196.0|                      24.5|                      43|                               32| 0.2558139534883721|                       2|                         6|                         8|                     6.5|                        706|            369|               337|               123|\n|        28|  38462|             100|                     190.0|        1.9191919191919191|                     697|                              232|  0.667144906743185|                       4|                         4|                        26|                    3.25|                        706|            369|               337|               123|\n|        28|  44039|               9|                     178.0|                     22.25|                     169|                              106| 0.3727810650887574|                       1|                         8|                         8|                    30.0|                        706|            369|               337|               123|\n|        28|  48820|              65|                     365.0|                  5.703125|                    1251|                              372| 0.7026378896882494|                       2|                        42|                        47|                    28.0|                        706|            369|               337|               123|\n|        28|  62381|               4|                      54.0|                      18.0|                     101|                               58|0.42574257425742573|                       3|                         1|                         3|                    12.0|                        706|            369|               337|               123|\n|        28|  87617|               4|                      65.0|        21.666666666666668|                      64|                               54|            0.15625|                       1|                         2|                         2|                     5.0|                        706|            369|               337|               123|\n|        28| 118506|              51|                     346.0|                      6.92|                     508|                              174|   0.65748031496063|                       1|                        43|                        43|                     6.0|                        706|            369|               337|               123|\n|        28| 141442|              32|                     361.0|         11.64516129032258|                     575|                              172| 0.7008695652173913|                       3|                        26|                        30|                    13.0|                        706|            369|               337|               123|\n|        28| 142861|               7|                     159.0|                      26.5|                      79|                               62|0.21518987341772153|                       1|                         4|                         4|                     5.0|                        706|            369|               337|               123|\n|        28| 147633|              51|                     360.0|                       7.2|                     394|                              171|  0.565989847715736|                       5|                        30|                        49|                     7.2|                        706|            369|               337|               123|\n|        28| 165418|               4|                      38.0|        12.666666666666666|                      47|                               30| 0.3617021276595745|                       2|                         1|                         3|                     6.5|                        706|            369|               337|               123|\n|        28|    727|              22|                     349.0|         16.61904761904762|                     323|                               73| 0.7739938080495357|                       2|                         7|                        19|                    15.0|                        706|            369|               337|               123|\n|        28|   6319|              15|                     217.0|                      15.5|                     198|                              140|0.29292929292929293|                       1|                        12|                        12|                     7.0|                        706|            369|               337|               123|\n|        28|  17260|              16|                     227.0|        15.133333333333333|                     298|                              154|0.48322147651006714|                       2|                         6|                        10|                    12.0|                        706|            369|               337|               123|\n|        28|  21140|               4|                      90.0|                      30.0|                      16|                               16|                0.0|                       1|                         3|                         3|                     5.0|                        706|            369|               337|               123|\n|        28|  42855|              12|                     254.0|         23.09090909090909|                      69|                               39|0.43478260869565216|                       1|                         9|                         9|                     1.0|                        706|            369|               337|               123|\n|        28|  47174|              16|                     301.0|        20.066666666666666|                     395|                              100| 0.7468354430379747|                       3|                         7|                        15|      17.333333333333332|                        706|            369|               337|               123|\n|        28|  57527|               5|                      84.0|                      21.0|                      56|                               49|              0.125|                       1|                         2|                         2|                     4.0|                        706|            369|               337|               123|\n+----------+-------+----------------+--------------------------+--------------------------+------------------------+---------------------------------+-------------------+------------------------+--------------------------+--------------------------+------------------------+---------------------------+---------------+------------------+------------------+\nonly showing top 20 rows\n",
					"output_type": "stream"
				}
			]
		},
		{
			"cell_type": "markdown",
			"source": "### final_features write to S3 destination",
			"metadata": {}
		},
		{
			"cell_type": "code",
			"source": "final_features.coalesce(1).write.option('header', 'true').mode('overwrite').csv(f's3://{bucket}/{folder}/')",
			"metadata": {
				"trusted": true
			},
			"execution_count": 14,
			"outputs": [
				{
					"name": "stdout",
					"text": "\n",
					"output_type": "stream"
				}
			]
		},
		{
			"cell_type": "markdown",
			"source": "#### Example: Write the data in the DynamicFrame to a location in Amazon S3 and a table for it in the AWS Glue Data Catalog\n",
			"metadata": {
				"editable": true,
				"trusted": true
			}
		},
		{
			"cell_type": "code",
			"source": "s3output = glueContext.getSink(\n  path=\"s3://bucket_name/folder_name\",\n  connection_type=\"s3\",\n  updateBehavior=\"UPDATE_IN_DATABASE\",\n  partitionKeys=[],\n  compression=\"snappy\",\n  enableUpdateCatalog=True,\n  transformation_ctx=\"s3output\",\n)\ns3output.setCatalogInfo(\n  catalogDatabase=\"demo\", catalogTableName=\"populations\"\n)\ns3output.setFormat(\"glueparquet\")\ns3output.writeFrame(DyF)",
			"metadata": {
				"editable": true,
				"trusted": true
			},
			"execution_count": null,
			"outputs": []
		}
	]
}