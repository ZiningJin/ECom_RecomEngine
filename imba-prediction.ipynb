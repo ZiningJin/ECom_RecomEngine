{
 "cells": [
  {
   "cell_type": "code",
   "execution_count": 1,
   "id": "3ef5b82c",
   "metadata": {
    "scrolled": true,
    "tags": []
   },
   "outputs": [
    {
     "name": "stdout",
     "output_type": "stream",
     "text": [
      "Looking in indexes: https://pypi.org/simple, https://pip.repos.neuron.amazonaws.com\n",
      "Collecting scikit-surprise\n",
      "  Downloading scikit-surprise-1.1.3.tar.gz (771 kB)\n",
      "\u001b[2K     \u001b[90m━━━━━━━━━━━━━━━━━━━━━━━━━━━━━━━━━━━━━━\u001b[0m \u001b[32m772.0/772.0 kB\u001b[0m \u001b[31m15.9 MB/s\u001b[0m eta \u001b[36m0:00:00\u001b[0m00:01\u001b[0m\n",
      "\u001b[?25h  Preparing metadata (setup.py) ... \u001b[?25ldone\n",
      "\u001b[?25hRequirement already satisfied: joblib>=1.0.0 in /home/ec2-user/anaconda3/envs/python3/lib/python3.10/site-packages (from scikit-surprise) (1.2.0)\n",
      "Requirement already satisfied: numpy>=1.17.3 in /home/ec2-user/anaconda3/envs/python3/lib/python3.10/site-packages (from scikit-surprise) (1.22.3)\n",
      "Requirement already satisfied: scipy>=1.3.2 in /home/ec2-user/anaconda3/envs/python3/lib/python3.10/site-packages (from scikit-surprise) (1.10.0)\n",
      "Building wheels for collected packages: scikit-surprise\n",
      "  Building wheel for scikit-surprise (setup.py) ... \u001b[?25ldone\n",
      "\u001b[?25h  Created wheel for scikit-surprise: filename=scikit_surprise-1.1.3-cp310-cp310-linux_x86_64.whl size=1178896 sha256=3b2506a5ad1c1d64d23eb20d7a29706eb7e40af0d7a11142d0c0dc07e170a811\n",
      "  Stored in directory: /home/ec2-user/.cache/pip/wheels/df/e4/a6/7ad72453dd693f420b0c639bedeec34641738d11b55d8d9b84\n",
      "Successfully built scikit-surprise\n",
      "Installing collected packages: scikit-surprise\n",
      "Successfully installed scikit-surprise-1.1.3\n"
     ]
    }
   ],
   "source": [
    "import json\n",
    "import boto3\n",
    "import pandas as pd\n",
    "import numpy as np\n",
    "from datetime import datetime\n",
    "!pip install scikit-surprise\n",
    "from surprise import Reader, Dataset, SVD\n",
    "from surprise.model_selection.validation import cross_validate"
   ]
  },
  {
   "cell_type": "code",
   "execution_count": 2,
   "id": "37f9e752",
   "metadata": {
    "tags": []
   },
   "outputs": [
    {
     "data": {
      "text/plain": [
       "'part-00000-fddc7612-2381-4eee-a1f0-5328fd1072e2-c000.csv'"
      ]
     },
     "execution_count": 2,
     "metadata": {},
     "output_type": "execute_result"
    }
   ],
   "source": [
    "# Get latest folder/filename\n",
    "s3 = boto3.client(\"s3\")\n",
    "bucket = 'jrde-upload-from-glue'\n",
    "output_bucket = 'jrde-recommendation-results'\n",
    "\n",
    "response = s3.list_objects_v2(Bucket=bucket)\n",
    "sorted_obj = sorted(response['Contents'], key=lambda obj: obj['LastModified'], reverse=True)\n",
    "folder = sorted_obj[0]['Key'].split('/')[0]\n",
    "filename = sorted_obj[0]['Key'].split('/')[1]\n",
    "\n",
    "filename"
   ]
  },
  {
   "cell_type": "code",
   "execution_count": 3,
   "id": "26762d2d-190f-4c78-af77-d7f96eabd4da",
   "metadata": {
    "tags": []
   },
   "outputs": [],
   "source": [
    "df = pd.read_csv(f's3://{bucket}/{folder}/{filename}', nrows=2000000, usecols=['user_id', 'product_id', 'user_reorder_ratio', 'product_seq_time_1', 'product_seq_time_2'])\n",
    "df['reorder_prob'] = df.product_seq_time_2 / df.product_seq_time_1\n",
    "df.drop(['user_reorder_ratio', 'product_seq_time_1', 'product_seq_time_2'], axis=1, inplace=True)\n",
    "df.loc[df['reorder_prob'] <= 0.2, 'reorder_prob'] = 1.0\n",
    "df.loc[df['reorder_prob'] <= 0.4, 'reorder_prob'] = 2.0\n",
    "df.loc[df['reorder_prob'] <= 0.6, 'reorder_prob'] = 3.0\n",
    "df.loc[df['reorder_prob'] <= 0.8, 'reorder_prob'] = 4.0\n",
    "df.loc[df['reorder_prob'] < 1.0, 'reorder_prob'] = 5.0"
   ]
  },
  {
   "cell_type": "code",
   "execution_count": 16,
   "id": "7139b03d-e11f-47a6-acfb-a979471a43b2",
   "metadata": {
    "tags": []
   },
   "outputs": [
    {
     "name": "stdout",
     "output_type": "stream",
     "text": [
      "Evaluating RMSE, MAE of algorithm SVD on 5 split(s).\n",
      "\n",
      "                  Fold 1  Fold 2  Fold 3  Fold 4  Fold 5  Mean    Std     \n",
      "RMSE (testset)    0.0850  0.0847  0.0842  0.0861  0.0854  0.0851  0.0006  \n",
      "MAE (testset)     0.0374  0.0372  0.0372  0.0375  0.0373  0.0373  0.0001  \n",
      "Fit time          27.88   28.76   28.60   28.02   28.43   28.34   0.34    \n",
      "Test time         4.46    3.87    4.44    4.47    3.90    4.23    0.28    \n"
     ]
    },
    {
     "data": {
      "text/plain": [
       "{'test_rmse': array([0.08502632, 0.08468011, 0.08422991, 0.08605652, 0.08539579]),\n",
       " 'test_mae': array([0.03744931, 0.03716287, 0.03717931, 0.03750396, 0.03726147]),\n",
       " 'fit_time': (27.879758596420288,\n",
       "  28.758902072906494,\n",
       "  28.599554300308228,\n",
       "  28.01816725730896,\n",
       "  28.4322726726532),\n",
       " 'test_time': (4.464025020599365,\n",
       "  3.8684091567993164,\n",
       "  4.443245887756348,\n",
       "  4.465251684188843,\n",
       "  3.89990234375)}"
      ]
     },
     "execution_count": 16,
     "metadata": {},
     "output_type": "execute_result"
    }
   ],
   "source": [
    "reader = Reader()\n",
    "data = Dataset.load_from_df(df[['user_id', 'product_id', 'reorder_prob']], reader)\n",
    "svd = SVD()\n",
    "cross_validate(svd, data, measures=['RMSE', 'MAE'], cv=5, verbose=True)"
   ]
  },
  {
   "cell_type": "code",
   "execution_count": 17,
   "id": "badf248f-7055-4f00-9580-abd6fc619ab0",
   "metadata": {
    "tags": []
   },
   "outputs": [
    {
     "data": {
      "text/plain": [
       "<surprise.prediction_algorithms.matrix_factorization.SVD at 0x7f2aff3c76d0>"
      ]
     },
     "execution_count": 17,
     "metadata": {},
     "output_type": "execute_result"
    }
   ],
   "source": [
    "trainset = data.build_full_trainset()\n",
    "svd.fit(trainset)"
   ]
  },
  {
   "cell_type": "code",
   "execution_count": 19,
   "id": "9fe191a2-732e-46c7-9c4d-99d0c6519c46",
   "metadata": {
    "tags": []
   },
   "outputs": [
    {
     "data": {
      "text/html": [
       "<div>\n",
       "<style scoped>\n",
       "    .dataframe tbody tr th:only-of-type {\n",
       "        vertical-align: middle;\n",
       "    }\n",
       "\n",
       "    .dataframe tbody tr th {\n",
       "        vertical-align: top;\n",
       "    }\n",
       "\n",
       "    .dataframe thead th {\n",
       "        text-align: right;\n",
       "    }\n",
       "</style>\n",
       "<table border=\"1\" class=\"dataframe\">\n",
       "  <thead>\n",
       "    <tr style=\"text-align: right;\">\n",
       "      <th></th>\n",
       "      <th>product_id</th>\n",
       "      <th>user_id</th>\n",
       "      <th>reorder_prob</th>\n",
       "      <th>Estimate_Score</th>\n",
       "    </tr>\n",
       "  </thead>\n",
       "  <tbody>\n",
       "    <tr>\n",
       "      <th>396332</th>\n",
       "      <td>23909</td>\n",
       "      <td>2712</td>\n",
       "      <td>4.0</td>\n",
       "      <td>3.911204</td>\n",
       "    </tr>\n",
       "    <tr>\n",
       "      <th>1092506</th>\n",
       "      <td>19643</td>\n",
       "      <td>2712</td>\n",
       "      <td>3.0</td>\n",
       "      <td>2.995804</td>\n",
       "    </tr>\n",
       "    <tr>\n",
       "      <th>1421423</th>\n",
       "      <td>38929</td>\n",
       "      <td>2712</td>\n",
       "      <td>3.0</td>\n",
       "      <td>2.965416</td>\n",
       "    </tr>\n",
       "    <tr>\n",
       "      <th>1854640</th>\n",
       "      <td>18811</td>\n",
       "      <td>2712</td>\n",
       "      <td>3.0</td>\n",
       "      <td>2.924098</td>\n",
       "    </tr>\n",
       "    <tr>\n",
       "      <th>0</th>\n",
       "      <td>12</td>\n",
       "      <td>2712</td>\n",
       "      <td>2.0</td>\n",
       "      <td>2.053515</td>\n",
       "    </tr>\n",
       "    <tr>\n",
       "      <th>1129736</th>\n",
       "      <td>21582</td>\n",
       "      <td>2712</td>\n",
       "      <td>2.0</td>\n",
       "      <td>1.981313</td>\n",
       "    </tr>\n",
       "    <tr>\n",
       "      <th>1006223</th>\n",
       "      <td>13423</td>\n",
       "      <td>2712</td>\n",
       "      <td>2.0</td>\n",
       "      <td>1.979889</td>\n",
       "    </tr>\n",
       "    <tr>\n",
       "      <th>1255651</th>\n",
       "      <td>29750</td>\n",
       "      <td>2712</td>\n",
       "      <td>2.0</td>\n",
       "      <td>1.972856</td>\n",
       "    </tr>\n",
       "    <tr>\n",
       "      <th>1754777</th>\n",
       "      <td>11121</td>\n",
       "      <td>2712</td>\n",
       "      <td>2.0</td>\n",
       "      <td>1.962968</td>\n",
       "    </tr>\n",
       "    <tr>\n",
       "      <th>379691</th>\n",
       "      <td>22788</td>\n",
       "      <td>2712</td>\n",
       "      <td>2.0</td>\n",
       "      <td>1.962166</td>\n",
       "    </tr>\n",
       "    <tr>\n",
       "      <th>1265526</th>\n",
       "      <td>30960</td>\n",
       "      <td>2712</td>\n",
       "      <td>2.0</td>\n",
       "      <td>1.961800</td>\n",
       "    </tr>\n",
       "    <tr>\n",
       "      <th>1214500</th>\n",
       "      <td>27356</td>\n",
       "      <td>2712</td>\n",
       "      <td>2.0</td>\n",
       "      <td>1.961702</td>\n",
       "    </tr>\n",
       "    <tr>\n",
       "      <th>924372</th>\n",
       "      <td>8460</td>\n",
       "      <td>2712</td>\n",
       "      <td>2.0</td>\n",
       "      <td>1.957433</td>\n",
       "    </tr>\n",
       "    <tr>\n",
       "      <th>1711553</th>\n",
       "      <td>8351</td>\n",
       "      <td>2712</td>\n",
       "      <td>1.0</td>\n",
       "      <td>1.056897</td>\n",
       "    </tr>\n",
       "    <tr>\n",
       "      <th>1872768</th>\n",
       "      <td>19468</td>\n",
       "      <td>2712</td>\n",
       "      <td>1.0</td>\n",
       "      <td>1.000000</td>\n",
       "    </tr>\n",
       "  </tbody>\n",
       "</table>\n",
       "</div>"
      ],
      "text/plain": [
       "         product_id  user_id  reorder_prob  Estimate_Score\n",
       "396332        23909     2712           4.0        3.911204\n",
       "1092506       19643     2712           3.0        2.995804\n",
       "1421423       38929     2712           3.0        2.965416\n",
       "1854640       18811     2712           3.0        2.924098\n",
       "0                12     2712           2.0        2.053515\n",
       "1129736       21582     2712           2.0        1.981313\n",
       "1006223       13423     2712           2.0        1.979889\n",
       "1255651       29750     2712           2.0        1.972856\n",
       "1754777       11121     2712           2.0        1.962968\n",
       "379691        22788     2712           2.0        1.962166\n",
       "1265526       30960     2712           2.0        1.961800\n",
       "1214500       27356     2712           2.0        1.961702\n",
       "924372         8460     2712           2.0        1.957433\n",
       "1711553        8351     2712           1.0        1.056897\n",
       "1872768       19468     2712           1.0        1.000000"
      ]
     },
     "execution_count": 19,
     "metadata": {},
     "output_type": "execute_result"
    }
   ],
   "source": [
    "titles = df.copy()\n",
    "titles['Estimate_Score'] = titles['product_id'].apply(lambda x: svd.predict(2712, x).est)\n",
    "titles = titles.sort_values(by=['Estimate_Score'], ascending=False)\n",
    "titles[titles['user_id'] == 2712]"
   ]
  },
  {
   "cell_type": "code",
   "execution_count": 21,
   "id": "a5a96e3c-dc7f-4b34-8a9d-aa758e04858b",
   "metadata": {
    "tags": []
   },
   "outputs": [],
   "source": [
    "user_ids = df['user_id'].unique()\n",
    "recommendations = {}\n",
    "for user_id in user_ids:\n",
    "    user_item_df = titles[titles['user_id'] == user_id].head(3)\n",
    "    recommendations[str(user_id)] = user_item_df['product_id'].values.tolist()"
   ]
  },
  {
   "cell_type": "code",
   "execution_count": 22,
   "id": "d0d58f04-7811-43a1-945f-758e45a8ce8e",
   "metadata": {
    "tags": []
   },
   "outputs": [
    {
     "data": {
      "text/plain": [
       "{'ResponseMetadata': {'RequestId': 'VAQ77Z19X83DH7C0',\n",
       "  'HostId': 'OwfNYj0XqXdKVZreAgim6P8y1XB4c4LPv2mSNRxu76tHhsagvfOdMtBCP6l9SPtNiaZ0jeX1nQBmCnnYE+xJNg==',\n",
       "  'HTTPStatusCode': 200,\n",
       "  'HTTPHeaders': {'x-amz-id-2': 'OwfNYj0XqXdKVZreAgim6P8y1XB4c4LPv2mSNRxu76tHhsagvfOdMtBCP6l9SPtNiaZ0jeX1nQBmCnnYE+xJNg==',\n",
       "   'x-amz-request-id': 'VAQ77Z19X83DH7C0',\n",
       "   'date': 'Tue, 28 Mar 2023 22:09:12 GMT',\n",
       "   'x-amz-server-side-encryption': 'AES256',\n",
       "   'etag': '\"73e1398606b31a863cc599871e8f7ef9\"',\n",
       "   'server': 'AmazonS3',\n",
       "   'content-length': '0'},\n",
       "  'RetryAttempts': 0},\n",
       " 'ETag': '\"73e1398606b31a863cc599871e8f7ef9\"',\n",
       " 'ServerSideEncryption': 'AES256'}"
      ]
     },
     "execution_count": 22,
     "metadata": {},
     "output_type": "execute_result"
    }
   ],
   "source": [
    "output = 'recommendations-' + datetime.now().strftime('%Y-%m-%d-%H-%M-%S') + '.json'\n",
    "\n",
    "s3.put_object(Bucket=output_bucket, Key=output, Body=json.dumps(recommendations))"
   ]
  }
 ],
 "metadata": {
  "kernelspec": {
   "display_name": "conda_python3",
   "language": "python",
   "name": "conda_python3"
  },
  "language_info": {
   "codemirror_mode": {
    "name": "ipython",
    "version": 3
   },
   "file_extension": ".py",
   "mimetype": "text/x-python",
   "name": "python",
   "nbconvert_exporter": "python",
   "pygments_lexer": "ipython3",
   "version": "3.10.8"
  }
 },
 "nbformat": 4,
 "nbformat_minor": 5
}
