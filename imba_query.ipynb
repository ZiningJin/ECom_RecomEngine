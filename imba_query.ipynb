{
	"metadata": {
		"kernelspec": {
			"name": "glue_pyspark",
			"display_name": "Glue PySpark",
			"language": "python"
		},
		"language_info": {
			"name": "Python_Glue_Session",
			"mimetype": "text/x-python",
			"codemirror_mode": {
				"name": "python",
				"version": 3
			},
			"pygments_lexer": "python3",
			"file_extension": ".py"
		}
	},
	"nbformat_minor": 4,
	"nbformat": 4,
	"cells": [
		{
			"cell_type": "markdown",
			"source": "# AWS Glue Studio Notebook\n##### You are now running a AWS Glue Studio notebook; To start using your notebook you need to start an AWS Glue Interactive Session.\n",
			"metadata": {
				"editable": true,
				"trusted": true
			}
		},
		{
			"cell_type": "markdown",
			"source": "#### Optional: Run this cell to see available notebook commands (\"magics\").\n",
			"metadata": {
				"editable": true,
				"trusted": true
			}
		},
		{
			"cell_type": "code",
			"source": "%help",
			"metadata": {
				"editable": true,
				"trusted": true
			},
			"execution_count": null,
			"outputs": []
		},
		{
			"cell_type": "markdown",
			"source": "####  Run this cell to set up and start your interactive session.\n",
			"metadata": {
				"editable": true,
				"trusted": true
			}
		},
		{
			"cell_type": "code",
			"source": "%idle_timeout 2880\n%glue_version 3.0\n%worker_type G.1X\n%number_of_workers 5\n\nimport sys\nfrom awsglue.transforms import *\nfrom awsglue.utils import getResolvedOptions\nfrom pyspark.context import SparkContext\nfrom awsglue.context import GlueContext\nfrom awsglue.job import Job\nfrom pyspark.sql.functions import *\nfrom pyspark.sql.types import *\nfrom datetime import datetime\n  \nsc = SparkContext.getOrCreate()\nglueContext = GlueContext(sc)\nspark = glueContext.spark_session\njob = Job(glueContext)",
			"metadata": {
				"editable": true,
				"trusted": true
			},
			"execution_count": 1,
			"outputs": [
				{
					"name": "stdout",
					"text": "Welcome to the Glue Interactive Sessions Kernel\nFor more information on available magic commands, please type %help in any new cell.\n\nPlease view our Getting Started page to access the most up-to-date information on the Interactive Sessions kernel: https://docs.aws.amazon.com/glue/latest/dg/interactive-sessions.html\nInstalled kernel version: 0.37.0 \nCurrent idle_timeout is 2800 minutes.\nidle_timeout has been set to 2880 minutes.\nSetting Glue version to: 3.0\nPrevious worker type: G.1X\nSetting new worker type to: G.1X\nPrevious number of workers: 5\nSetting new number of workers to: 5\nAuthenticating with environment variables and user-defined glue_role_arn: arn:aws:iam::117760591469:role/AWSGlueServiceRoleDefault\nTrying to create a Glue session for the kernel.\nWorker Type: G.1X\nNumber of Workers: 5\nSession ID: c65bb277-f296-4551-ad3a-cc5b7bdec319\nJob Type: glueetl\nApplying the following default arguments:\n--glue_kernel_version 0.37.0\n--enable-glue-datacatalog true\nWaiting for session c65bb277-f296-4551-ad3a-cc5b7bdec319 to get into ready status...\nSession c65bb277-f296-4551-ad3a-cc5b7bdec319 has been created.\n\n",
					"output_type": "stream"
				}
			]
		},
		{
			"cell_type": "code",
			"source": "# Define parameters\nnow = datetime.now().strftime('%Y-%m-%d-%H:%M:%S')\nbucket = 'jrde-upload-from-glue'\nfolder = 'query_results-' + now\n\ndb = 'from_rds'\naisles_table = 'ecommerce_public_aisles'\ndepartments_table = 'ecommerce_public_departments'\norders_table = 'ecommerce_public_orders'\nproducts_table = 'ecommerce_public_products'\norder_product_table = 'ecommerce_public_order_product'",
			"metadata": {
				"trusted": true
			},
			"execution_count": 64,
			"outputs": [
				{
					"name": "stdout",
					"text": "\n",
					"output_type": "stream"
				}
			]
		},
		{
			"cell_type": "code",
			"source": "# Create dataframes for raw datasets\naisles_df = glueContext.create_dynamic_frame.from_catalog(database=db, table_name=aisles_table).toDF()\ndepartments_df = glueContext.create_dynamic_frame.from_catalog(database=db, table_name=departments_table).toDF()\norders_df = glueContext.create_dynamic_frame.from_catalog(database=db, table_name=orders_table).toDF()\nproducts_df = glueContext.create_dynamic_frame.from_catalog(database=db, table_name=products_table).toDF()\norder_product_df = glueContext.create_dynamic_frame.from_catalog(database=db, table_name=order_product_table).toDF()",
			"metadata": {
				"editable": true,
				"trusted": true
			},
			"execution_count": 6,
			"outputs": [
				{
					"name": "stdout",
					"text": "\n",
					"output_type": "stream"
				}
			]
		},
		{
			"cell_type": "code",
			"source": "# Create order_products_prior view for getting new data\nprior_orders = orders_df.filter(orders_df['eval_set']=='prior')\njoined_order_product = prior_orders.join(order_product_df, 'order_id', 'left')\njoined_order_product.createOrReplaceTempView('order_products_prior')\norders_df.createOrReplaceTempView('orders_view')",
			"metadata": {
				"trusted": true
			},
			"execution_count": 22,
			"outputs": [
				{
					"name": "stdout",
					"text": "\n",
					"output_type": "stream"
				}
			]
		},
		{
			"cell_type": "code",
			"source": "# query 1\ntable1 = spark.sql('select user_id, \\n'\n            'max(order_number) max_order_number, \\n'\n            'sum(day_since_prior_order) sum_day_since_prior_order, \\n'\n            'avg(day_since_prior_order) avg_day_since_prior_order \\n'\n        'from orders_view \\n'\n        'group by user_id;')\n#table1.show()",
			"metadata": {
				"trusted": true
			},
			"execution_count": 23,
			"outputs": [
				{
					"name": "stdout",
					"text": "+-------+----------------+-------------------------+-------------------------+\n|user_id|max_order_number|sum_day_since_prior_order|avg_day_since_prior_order|\n+-------+----------------+-------------------------+-------------------------+\n| 188592|              45|                    349.0|        7.931818181818182|\n| 203309|               4|                     54.0|                     18.0|\n|  41061|              55|                    331.0|         6.12962962962963|\n| 202186|              18|                    102.0|                      6.0|\n| 157678|               9|                     51.0|                    6.375|\n| 163889|              30|                    265.0|        9.137931034482758|\n| 118728|              74|                    359.0|        4.917808219178082|\n| 181991|              51|                    364.0|                     7.28|\n| 109349|              62|                    342.0|         5.60655737704918|\n|  81279|              14|                    152.0|       11.692307692307692|\n| 100253|              54|                    365.0|        6.886792452830188|\n|  82249|              12|                    139.0|       12.636363636363637|\n| 128091|               6|                    113.0|                     22.6|\n| 163817|               4|                     51.0|                     17.0|\n| 106073|              28|                    337.0|       12.481481481481481|\n|  70785|              12|                    164.0|       14.909090909090908|\n|  12899|              85|                    361.0|       4.2976190476190474|\n|  65003|              68|                    359.0|        5.358208955223881|\n|  86281|              20|                    298.0|        15.68421052631579|\n| 120899|              79|                    362.0|        4.641025641025641|\n+-------+----------------+-------------------------+-------------------------+\nonly showing top 20 rows\n",
					"output_type": "stream"
				}
			]
		},
		{
			"cell_type": "code",
			"source": "# Query 2\ntable2 = spark.sql('select user_id, \\n'\n                       'count(product_id) total_products_groupby_userid, \\n'\n                       'count(distinct(product_id)) distinct_products, \\n'\n                       'sum(reordered) / count(case when order_number > 1 then 1 else 0 end) user_reorder_ratio \\n'\n                'from order_products_prior \\n'\n                'group by user_id;')\n#table2.show()",
			"metadata": {
				"trusted": true
			},
			"execution_count": 35,
			"outputs": [
				{
					"name": "stdout",
					"text": "\n",
					"output_type": "stream"
				}
			]
		},
		{
			"cell_type": "code",
			"source": "# Query 3\ntable3 = spark.sql('select user_id, \\n'\n                       'product_id, \\n'\n                       'sum(order_number) total_products_groupby_userid_productid, \\n'\n                       'min(order_number) min_ordernum_groupby_userid_productid, \\n'\n                       'max(order_number) max_ordernum_groupby_userid_productid, \\n'\n                       'avg(add_to_cart_order) avg_addtocartorder_groupby_userid_productid \\n'\n                'from order_products_prior \\n'\n                'group by user_id, product_id;')\n#table3.show()",
			"metadata": {
				"trusted": true
			},
			"execution_count": 27,
			"outputs": [
				{
					"name": "stdout",
					"text": "+-------+----------+---------------------------------------+-------------------------------------+-------------------------------------+-------------------------------------------+\n|user_id|product_id|total_products_groupby_userid_productid|min_ordernum_groupby_userid_productid|max_ordernum_groupby_userid_productid|avg_addtocartorder_groupby_userid_productid|\n+-------+----------+---------------------------------------+-------------------------------------+-------------------------------------+-------------------------------------------+\n| 156122|     12962|                                    161|                                   23|                                   42|                                       17.2|\n| 135442|      1529|                                      9|                                    4|                                    5|                                        8.0|\n| 135442|      3464|                                    127|                                    4|                                   22|                                        4.6|\n| 201744|      4920|                                     51|                                    1|                                   12|                          7.428571428571429|\n|  91667|     23233|                                     42|                                   19|                                   23|                                        9.5|\n|  91667|     43154|                                    121|                                   13|                                   24|                          5.285714285714286|\n|  91667|     48057|                                     19|                                   19|                                   19|                                       15.0|\n|  91667|      2295|                                     35|                                   16|                                   19|                                       10.0|\n|   4645|      5212|                                     80|                                    8|                                   63|                         3.6666666666666665|\n| 184205|     13708|                                      4|                                    4|                                    4|                                        9.0|\n| 184205|     42075|                                      4|                                    4|                                    4|                                        4.0|\n|  99471|     28123|                                     52|                                   16|                                   19|                         18.666666666666668|\n|  99471|     49273|                                     35|                                   17|                                   18|                                       10.5|\n|   4209|      5876|                                     21|                                    4|                                   10|                                        5.0|\n|  96385|     41960|                                     20|                                   20|                                   20|                                       12.0|\n|  96385|     24933|                                     77|                                   12|                                   20|                                        6.6|\n|  14264|      9366|                                     73|                                   35|                                   38|                                        7.0|\n|  14264|     13176|                                    892|                                    1|                                   44|                                       2.65|\n|  14264|     43955|                                    103|                                   28|                                   38|                          8.666666666666666|\n| 177113|      4562|                                     26|                                    6|                                   11|                                       12.0|\n+-------+----------+---------------------------------------+-------------------------------------+-------------------------------------+-------------------------------------------+\nonly showing top 20 rows\n",
					"output_type": "stream"
				}
			]
		},
		{
			"cell_type": "code",
			"source": "# Query 4\ntable4= spark.sql('with temp as ( \\n'\n                    'select user_id, \\n'\n                    '       order_number, \\n'\n                    '       product_id, \\n'\n                    '       reordered, \\n'\n                    '       rank() over(partition by user_id, product_id order by order_number) product_seq_time \\n'\n                    'from order_products_prior \\n'\n                ') \\n'\n                'select product_id, \\n'\n                       'count(product_id) total_products_groupby_productid, \\n'\n                       'sum(reordered) total_reordered, \\n'\n                       'sum(case when product_seq_time = 1 then 1 else 0 end) product_seq_time_1, \\n'\n                       'sum(case when product_seq_time = 2 then 1 else 0 end) product_seq_time_2 \\n'\n                'from temp \\n'\n                'group by product_id;')\n#table4.show()",
			"metadata": {
				"trusted": true
			},
			"execution_count": 39,
			"outputs": [
				{
					"name": "stdout",
					"text": "\n",
					"output_type": "stream"
				}
			]
		},
		{
			"cell_type": "code",
			"source": "derived_table = table1.join(table2, 'user_id', 'left')\nderived_table = derived_table.join(table3, 'user_id', 'left')\nderived_table = derived_table.join(table4, 'product_id', 'left')\n#derived_table.show()",
			"metadata": {
				"trusted": true
			},
			"execution_count": 40,
			"outputs": [
				{
					"name": "stdout",
					"text": "\n",
					"output_type": "stream"
				}
			]
		},
		{
			"cell_type": "code",
			"source": "derived_table.coalesce(1).write.option('header', 'true').mode('overwrite').csv(f's3://{bucket}/{folder}/')",
			"metadata": {
				"trusted": true
			},
			"execution_count": 51,
			"outputs": [
				{
					"name": "stdout",
					"text": "\n",
					"output_type": "stream"
				}
			]
		},
		{
			"cell_type": "code",
			"source": "",
			"metadata": {},
			"execution_count": null,
			"outputs": []
		}
	]
}