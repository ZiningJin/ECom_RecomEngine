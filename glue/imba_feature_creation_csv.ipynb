{
	"metadata": {
		"kernelspec": {
			"name": "glue_pyspark",
			"display_name": "Glue PySpark",
			"language": "python"
		},
		"language_info": {
			"name": "Python_Glue_Session",
			"mimetype": "text/x-python",
			"codemirror_mode": {
				"name": "python",
				"version": 3
			},
			"pygments_lexer": "python3",
			"file_extension": ".py"
		}
	},
	"nbformat_minor": 4,
	"nbformat": 4,
	"cells": [
		{
			"cell_type": "markdown",
			"source": "# AWS Glue Studio Notebook\n##### You are now running a AWS Glue Studio notebook; To start using your notebook you need to start an AWS Glue Interactive Session.\n",
			"metadata": {
				"editable": true,
				"trusted": true
			}
		},
		{
			"cell_type": "markdown",
			"source": "#### Optional: Run this cell to see available notebook commands (\"magics\").\n",
			"metadata": {
				"editable": true,
				"trusted": true
			}
		},
		{
			"cell_type": "code",
			"source": "%help",
			"metadata": {
				"editable": true,
				"trusted": true
			},
			"execution_count": null,
			"outputs": []
		},
		{
			"cell_type": "markdown",
			"source": "####  Run this cell to set up and start your interactive session.\n",
			"metadata": {
				"editable": true,
				"trusted": true
			}
		},
		{
			"cell_type": "code",
			"source": "%idle_timeout 2880\n%glue_version 3.0\n%worker_type G.1X\n%number_of_workers 5\n\nimport sys\nfrom awsglue.transforms import *\nfrom awsglue.utils import getResolvedOptions\nfrom pyspark.context import SparkContext\nfrom awsglue.context import GlueContext\nfrom awsglue.job import Job\n  \nsc = SparkContext.getOrCreate()\nglueContext = GlueContext(sc)\nspark = glueContext.spark_session\njob = Job(glueContext)",
			"metadata": {
				"editable": true,
				"trusted": true
			},
			"execution_count": 1,
			"outputs": [
				{
					"name": "stdout",
					"text": "Welcome to the Glue Interactive Sessions Kernel\nFor more information on available magic commands, please type %help in any new cell.\n\nPlease view our Getting Started page to access the most up-to-date information on the Interactive Sessions kernel: https://docs.aws.amazon.com/glue/latest/dg/interactive-sessions.html\nInstalled kernel version: 0.37.0 \nCurrent idle_timeout is 2800 minutes.\nidle_timeout has been set to 2880 minutes.\nSetting Glue version to: 3.0\nPrevious worker type: G.1X\nSetting new worker type to: G.1X\nPrevious number of workers: 5\nSetting new number of workers to: 5\nAuthenticating with environment variables and user-defined glue_role_arn: arn:aws:iam::778725022589:role/AWSGlueServiceRole-charlie\nTrying to create a Glue session for the kernel.\nWorker Type: G.1X\nNumber of Workers: 5\nSession ID: 5ade9428-a300-472e-a53e-30cb13ce3176\nJob Type: glueetl\nApplying the following default arguments:\n--glue_kernel_version 0.37.0\n--enable-glue-datacatalog true\nWaiting for session 5ade9428-a300-472e-a53e-30cb13ce3176 to get into ready status...\nSession 5ade9428-a300-472e-a53e-30cb13ce3176 has been created.\n\n",
					"output_type": "stream"
				}
			]
		},
		{
			"cell_type": "code",
			"source": "# Define parameters\nfrom datetime import datetime\nnow = datetime.now().strftime('%Y-%m-%d-%H:%M:%S')\nbucket = 'imba-glue-output'\nfolder = 'sprint3-' + now\n\ndb = 'rdsdb'\naisles_table = 'postgres_public_aisles'\ndepartments_table = 'postgres_public_departments'\norders_table = 'postgres_public_orders'\nproducts_table = 'postgres_public_products'\norder_product_table = 'postgres_public_order_product'",
			"metadata": {
				"trusted": true
			},
			"execution_count": 7,
			"outputs": [
				{
					"name": "stdout",
					"text": "\n",
					"output_type": "stream"
				}
			]
		},
		{
			"cell_type": "markdown",
			"source": "### Create DynamicFrame and convert to SparkDF\n",
			"metadata": {
				"editable": true,
				"trusted": true
			}
		},
		{
			"cell_type": "code",
			"source": "aisles_df = glueContext.create_dynamic_frame.from_catalog(database=db, table_name=aisles_table).toDF()\ndepartments_df = glueContext.create_dynamic_frame.from_catalog(database=db, table_name=departments_table).toDF()\norders_df = glueContext.create_dynamic_frame.from_catalog(database=db, table_name=orders_table).toDF()\nproducts_df = glueContext.create_dynamic_frame.from_catalog(database=db, table_name=products_table).toDF()\norder_product_df = glueContext.create_dynamic_frame.from_catalog(database=db, table_name=order_product_table).toDF()",
			"metadata": {
				"editable": true,
				"trusted": true
			},
			"execution_count": 3,
			"outputs": [
				{
					"name": "stdout",
					"text": "\n",
					"output_type": "stream"
				}
			]
		},
		{
			"cell_type": "code",
			"source": "orders_df.show()",
			"metadata": {
				"editable": true,
				"trusted": true
			},
			"execution_count": 4,
			"outputs": [
				{
					"name": "stdout",
					"text": "+--------+-------+--------+------------+---------+-----------------+----------------------+\n|order_id|user_id|eval_set|order_number|order_dow|order_hour_of_day|days_since_prior_order|\n+--------+-------+--------+------------+---------+-----------------+----------------------+\n|  393748| 185277|   prior|          78|        1|                9|                   5.0|\n|  746725|  38109|    test|          13|        3|               16|                  10.0|\n| 2005551|  63647|   prior|           8|        6|               13|                  12.0|\n| 1910347|  76116|   prior|           6|        1|               16|                  15.0|\n| 1790456|  13736|   prior|          34|        0|               11|                   3.0|\n| 1409951| 184881|   prior|           8|        4|               10|                   2.0|\n| 2529361|   3777|   prior|          13|        1|               12|                   6.0|\n| 2420076|  22301|   prior|          36|        1|                9|                  14.0|\n| 3312174|  84953|   prior|           8|        6|               15|                   0.0|\n| 2657821| 103554|   prior|          24|        4|               13|                   3.0|\n| 1912264| 118079|   prior|           5|        4|               18|                  13.0|\n| 2221847| 197422|   train|          29|        1|               19|                   7.0|\n|  803196|  54669|   prior|          10|        4|               15|                   6.0|\n| 2363312| 164967|   prior|           1|        6|               15|                  null|\n| 2861363| 143245|   prior|          43|        3|               21|                   0.0|\n| 1721832| 115407|   prior|          10|        6|                7|                  15.0|\n|  421591| 176916|   prior|           8|        4|               10|                   6.0|\n| 1399569|  13406|   prior|          17|        4|               10|                   5.0|\n|  319032| 168890|   prior|          32|        4|               16|                   2.0|\n| 2596652|   7175|   prior|          14|        0|               21|                   1.0|\n+--------+-------+--------+------------+---------+-----------------+----------------------+\nonly showing top 20 rows\n",
					"output_type": "stream"
				}
			]
		},
		{
			"cell_type": "markdown",
			"source": "### create view of order_products_prior",
			"metadata": {}
		},
		{
			"cell_type": "code",
			"source": "orders_prior_df = orders_df.filter(orders_df['eval_set']=='prior')\njoined_order_product = orders_prior_df.join(order_product_df, 'order_id', 'left')\n\njoined_order_product.createOrReplaceTempView('order_products_prior')\norders_df.createOrReplaceTempView('orders_view')",
			"metadata": {
				"trusted": true
			},
			"execution_count": 5,
			"outputs": [
				{
					"name": "stdout",
					"text": "\n",
					"output_type": "stream"
				}
			]
		},
		{
			"cell_type": "markdown",
			"source": "### user_features_1\nBased on table orders, for each user, calculate the max order_number, the sum of days_since_prior_order and the average of days_since_prior_order",
			"metadata": {}
		},
		{
			"cell_type": "code",
			"source": "user_features_1 = spark.sql(\n    'select user_id, \\n'\n    'max(order_number) max_order_number, \\n'\n    'sum(days_since_prior_order) sum_days_since_prior_order, \\n'\n    'avg(days_since_prior_order) avg_days_since_prior_order \\n'\n    'from orders_view \\n'\n    'group by user_id;'\n)\nuser_features_1.show()",
			"metadata": {
				"trusted": true
			},
			"execution_count": 6,
			"outputs": [
				{
					"name": "stdout",
					"text": "+-------+----------------+--------------------------+--------------------------+\n|user_id|max_order_number|sum_days_since_prior_order|avg_days_since_prior_order|\n+-------+----------------+--------------------------+--------------------------+\n|  89655|              11|                     170.0|                      17.0|\n|  58568|              27|                     364.0|                      14.0|\n|  74467|              13|                     120.0|                      10.0|\n| 104419|               7|                      99.0|                      16.5|\n|  14127|              71|                     231.0|                       3.3|\n| 194575|              74|                     363.0|         4.972602739726027|\n|  26896|              28|                     340.0|        12.592592592592593|\n|   9355|              15|                     224.0|                      16.0|\n| 133847|              37|                     342.0|                       9.5|\n|  18499|               9|                     145.0|                    18.125|\n| 113103|              17|                     270.0|                    16.875|\n|  60124|              12|                     230.0|         20.90909090909091|\n|  15009|               8|                     166.0|        23.714285714285715|\n| 136737|             100|                     284.0|        2.8686868686868685|\n|  84946|              35|                     268.0|         7.882352941176471|\n|  85407|              31|                     209.0|         6.966666666666667|\n|  40991|              15|                     291.0|        20.785714285714285|\n| 196949|               4|                      83.0|        27.666666666666668|\n|  38543|              15|                     159.0|        11.357142857142858|\n| 173375|              77|                     212.0|         2.789473684210526|\n+-------+----------------+--------------------------+--------------------------+\nonly showing top 20 rows\n",
					"output_type": "stream"
				}
			]
		},
		{
			"cell_type": "code",
			"source": "print(\"Count: \", user_features_1.count())",
			"metadata": {
				"trusted": true
			},
			"execution_count": 8,
			"outputs": [
				{
					"name": "stdout",
					"text": "Count:  206209\n",
					"output_type": "stream"
				}
			]
		},
		{
			"cell_type": "code",
			"source": "# write user_features_1 in parquet in S3\nuser_features_1.coalesce(1).write.parquet(f's3://{bucket}/sprint3-user-features-1/')",
			"metadata": {
				"trusted": true
			},
			"execution_count": 12,
			"outputs": [
				{
					"name": "stdout",
					"text": "\n",
					"output_type": "stream"
				}
			]
		},
		{
			"cell_type": "markdown",
			"source": "### user_features_2\nBased on table order_products_prior, for each user calculate the total number of products, total number of distinct products, and user reorder ratio(number of reordered = 1 divided by number of order_number > 1)",
			"metadata": {}
		},
		{
			"cell_type": "code",
			"source": "user_features_2 = spark.sql(\n    'select user_id, \\n'\n    'count(product_id) total_products_by_userid, \\n'\n    'count(distinct(product_id)) total_distinct_products_by_userid, \\n'\n    'sum(reordered) / count(case when order_number > 1 then 1 else 0 end) user_reorder_ratio \\n'\n    'from order_products_prior \\n'\n    'group by user_id;'\n)\n\nuser_features_2.show()",
			"metadata": {
				"trusted": true
			},
			"execution_count": 13,
			"outputs": [
				{
					"name": "stdout",
					"text": "+-------+------------------------+---------------------------------+-------------------+\n|user_id|total_products_by_userid|total_distinct_products_by_userid| user_reorder_ratio|\n+-------+------------------------+---------------------------------+-------------------+\n|  97664|                     312|                               75| 0.7596153846153846|\n| 192552|                     455|                              194| 0.5736263736263736|\n| 179774|                     154|                               69|  0.551948051948052|\n| 159694|                     660|                              157| 0.7621212121212121|\n|  15182|                     219|                               11| 0.9497716894977168|\n|  76863|                      48|                               25| 0.4791666666666667|\n| 160975|                     542|                              226| 0.5830258302583026|\n| 142249|                     449|                              124| 0.7238307349665924|\n|  82480|                     292|                              139|  0.523972602739726|\n|   9271|                      55|                               43|0.21818181818181817|\n|  54869|                      34|                               25| 0.2647058823529412|\n|  24609|                    1241|                              446| 0.6406124093473006|\n|  87026|                     649|                              145| 0.7765793528505393|\n|  17742|                    1017|                              259| 0.7453294001966568|\n|  10649|                     544|                              134| 0.7536764705882353|\n| 165000|                     136|                               53| 0.6102941176470589|\n| 151750|                     207|                               87| 0.5797101449275363|\n|  74889|                     681|                              226| 0.6681350954478708|\n| 158834|                     299|                               85| 0.7157190635451505|\n|  95403|                      67|                               55| 0.1791044776119403|\n+-------+------------------------+---------------------------------+-------------------+\nonly showing top 20 rows\n",
					"output_type": "stream"
				}
			]
		},
		{
			"cell_type": "code",
			"source": "# write user_features_2 in parquet in S3\nuser_features_2.coalesce(1).write.parquet(f's3://{bucket}/sprint3-user-features-2/')",
			"metadata": {
				"trusted": true
			},
			"execution_count": 14,
			"outputs": [
				{
					"name": "stdout",
					"text": "\n",
					"output_type": "stream"
				}
			]
		},
		{
			"cell_type": "markdown",
			"source": "### up_features\nBased on table order_products_prior, for each user and product, calculate the total number of orders, minimum order_number, maximum order_number and average add_to_cart_order",
			"metadata": {}
		},
		{
			"cell_type": "code",
			"source": "up_features = spark.sql(\n    'select user_id, product_id, \\n'\n    'count(order_id) total_orders_by_userprod, \\n'\n    'min(order_number) min_ordernumber_byuserprod, \\n'\n    'max(order_number) max_ordernumber_byuserprod, \\n'\n    'avg(add_to_cart_order) avg_addtocart_byuserprod \\n'\n    'from order_products_prior \\n'\n    'group by user_id, product_id;'\n)\n\nup_features.show()",
			"metadata": {
				"trusted": true
			},
			"execution_count": 15,
			"outputs": [
				{
					"name": "stdout",
					"text": "+-------+----------+------------------------+--------------------------+--------------------------+------------------------+\n|user_id|product_id|total_orders_by_userprod|min_ordernumber_byuserprod|max_ordernumber_byuserprod|avg_addtocart_byuserprod|\n+-------+----------+------------------------+--------------------------+--------------------------+------------------------+\n| 202279|     40141|                       5|                         2|                         6|                     5.8|\n| 153404|     40545|                       6|                         2|                        27|       6.166666666666667|\n|   5738|      5438|                       4|                         3|                        10|                   13.25|\n| 102020|     46654|                       6|                         2|                        28|       8.666666666666666|\n| 111475|     12276|                       3|                         7|                         9|      2.3333333333333335|\n| 185440|      4605|                       1|                         4|                         4|                     3.0|\n|  43756|      5479|                      40|                         1|                        40|                   3.175|\n|  43756|     44683|                       1|                        26|                        26|                     4.0|\n|  36603|     47626|                       4|                         1|                        11|                    4.75|\n|  99546|     45854|                       2|                         1|                         2|                     5.5|\n|  99546|     24186|                       1|                         2|                         2|                     3.0|\n| 179469|     45578|                       1|                         4|                         4|                    14.0|\n| 140609|     44142|                       3|                         5|                        81|                     7.0|\n| 186816|      9515|                       1|                        14|                        14|                    27.0|\n| 146023|     35815|                       2|                        21|                        28|                     9.0|\n|  18550|     16325|                       1|                        10|                        10|                    15.0|\n|  20663|     39013|                      10|                        19|                        48|                     4.3|\n|  20663|     38609|                       3|                        44|                        47|       4.333333333333333|\n| 180135|      1511|                      71|                         1|                        99|       2.112676056338028|\n|  22836|     21841|                       2|                        18|                        39|                     9.0|\n+-------+----------+------------------------+--------------------------+--------------------------+------------------------+\nonly showing top 20 rows\n",
					"output_type": "stream"
				}
			]
		},
		{
			"cell_type": "code",
			"source": "# write up_features in parquet in S3\nup_features.coalesce(1).write.parquet(f's3://{bucket}/sprint3-up-features/')",
			"metadata": {
				"trusted": true
			},
			"execution_count": 16,
			"outputs": [
				{
					"name": "stdout",
					"text": "\n",
					"output_type": "stream"
				}
			]
		},
		{
			"cell_type": "markdown",
			"source": "### prd_features\nBased on table order_products_prior,\n- first write a sql query to calculate the sequence of product purchase for each user, and name it product_seq_time\n- Then on top of this query, for each product, calculate the count, sum of reordered, count of product_seq_time = 1 and count of product_seq_time = 2.",
			"metadata": {}
		},
		{
			"cell_type": "code",
			"source": "prd_features = spark.sql(\n    'with temp as ( \\n'\n    'select user_id, \\n'\n    'order_number, \\n'\n    'product_id, \\n'\n    'reordered, \\n'\n    'rank() over(partition by user_id, product_id order by order_number) product_seq_time \\n'\n     'from order_products_prior \\n'\n     ') \\n'\n     'select product_id, \\n'\n     'count(product_id) total_products_by_productid, \\n'\n     'sum(reordered) total_reordered, \\n'\n     'sum(case when product_seq_time = 1 then 1 else 0 end) product_seq_time_1, \\n'\n     'sum(case when product_seq_time = 2 then 1 else 0 end) product_seq_time_2 \\n'\n     'from temp \\n'\n     'group by product_id;')\n\nprd_features.show()",
			"metadata": {
				"trusted": true
			},
			"execution_count": 17,
			"outputs": [
				{
					"name": "stdout",
					"text": "+----------+---------------------------+---------------+------------------+------------------+\n|product_id|total_products_by_productid|total_reordered|product_seq_time_1|product_seq_time_2|\n+----------+---------------------------+---------------+------------------+------------------+\n|     35951|                      57895|          43875|             14020|              8244|\n|     13780|                       5136|           1712|              3424|               861|\n|     10921|                         39|              8|                31|                 6|\n|     47626|                     152657|         106255|             46402|             27195|\n|     39275|                     100060|          62922|             37138|             19091|\n|     43504|                      11110|           7378|              3732|              1852|\n|     32912|                        520|            316|               204|                87|\n|     33731|                      45238|          27635|             17603|              8226|\n|     47766|                     176815|         134044|             42771|             27429|\n|     32839|                       3385|           1581|              1804|               642|\n|     31846|                        971|            617|               354|               170|\n|      1025|                      11930|           6053|              5877|              2345|\n|     37987|                        138|             27|               111|                18|\n|     38293|                      26721|          17179|              9542|              4745|\n|     28842|                      45530|          25877|             19653|              8945|\n|     25647|                       5158|           2428|              2730|               960|\n|     18288|                      13086|           7978|              5108|              2137|\n|     27454|                       4659|           3250|              1409|               741|\n|     41593|                       6315|           2561|              3754|              1087|\n|     11262|                        864|            399|               465|               155|\n+----------+---------------------------+---------------+------------------+------------------+\nonly showing top 20 rows\n",
					"output_type": "stream"
				}
			]
		},
		{
			"cell_type": "code",
			"source": "# write prd_features in parquet in S3\nprd_features.coalesce(1).write.parquet(f's3://{bucket}/sprint3-prd-features/')",
			"metadata": {
				"trusted": true
			},
			"execution_count": 18,
			"outputs": [
				{
					"name": "stdout",
					"text": "\n",
					"output_type": "stream"
				}
			]
		},
		{
			"cell_type": "markdown",
			"source": "### make some joins of the above features\n- user_features_1 & user_features_2 join for user_features\n- user_features join up_features for user_up_features\n- user_up_features join prd_features for final_features",
			"metadata": {}
		},
		{
			"cell_type": "code",
			"source": "user_features = user_features_1.join(user_features_2, 'user_id', 'left')\nuser_up_features = user_features.join(up_features, 'user_id', 'left')\nfinal_features = user_up_features.join(prd_features, 'product_id', 'left')\n\nfinal_features.show()",
			"metadata": {
				"trusted": true
			},
			"execution_count": 19,
			"outputs": [
				{
					"name": "stdout",
					"text": "+----------+-------+----------------+--------------------------+--------------------------+------------------------+---------------------------------+-------------------+------------------------+--------------------------+--------------------------+------------------------+---------------------------+---------------+------------------+------------------+\n|product_id|user_id|max_order_number|sum_days_since_prior_order|avg_days_since_prior_order|total_products_by_userid|total_distinct_products_by_userid| user_reorder_ratio|total_orders_by_userprod|min_ordernumber_byuserprod|max_ordernumber_byuserprod|avg_addtocart_byuserprod|total_products_by_productid|total_reordered|product_seq_time_1|product_seq_time_2|\n+----------+-------+----------------+--------------------------+--------------------------+------------------------+---------------------------------+-------------------+------------------------+--------------------------+--------------------------+------------------------+---------------------------+---------------+------------------+------------------+\n|        28|    923|              13|                     160.0|        13.333333333333334|                      78|                               64| 0.1794871794871795|                       1|                         3|                         3|                     2.0|                        706|            369|               337|               123|\n|        28|  10112|              16|                     220.0|        14.666666666666666|                     110|                               77|                0.3|                       4|                         1|                         5|                     2.5|                        706|            369|               337|               123|\n|        28|  47274|              50|                     361.0|          7.36734693877551|                     424|                              127| 0.7004716981132075|                       1|                         7|                         7|                     9.0|                        706|            369|               337|               123|\n|        28|  51179|              12|                     240.0|        21.818181818181817|                     105|                               50| 0.5238095238095238|                       4|                         4|                        10|                    7.25|                        706|            369|               337|               123|\n|        28|  67229|              13|                     221.0|        18.416666666666668|                     158|                              110| 0.3037974683544304|                       1|                         3|                         3|                     6.0|                        706|            369|               337|               123|\n|        28|  71417|               4|                      32.0|        10.666666666666666|                      46|                               37| 0.1956521739130435|                       1|                         3|                         3|                     5.0|                        706|            369|               337|               123|\n|        28|  77135|              12|                     195.0|        17.727272727272727|                     175|                               90| 0.4857142857142857|                       1|                         7|                         7|                    19.0|                        706|            369|               337|               123|\n|        28|  98807|               7|                      71.0|        11.833333333333334|                      31|                               23|0.25806451612903225|                       2|                         2|                         4|                     5.0|                        706|            369|               337|               123|\n|        28| 114522|              15|                     161.0|                      11.5|                      79|                               57|0.27848101265822783|                       2|                        10|                        11|                     4.5|                        706|            369|               337|               123|\n|        28| 115539|              66|                     358.0|         5.507692307692308|                     613|                              194| 0.6835236541598695|                       4|                         2|                        52|                    13.5|                        706|            369|               337|               123|\n|        28| 123171|               4|                      58.0|        19.333333333333332|                      22|                               20|0.09090909090909091|                       1|                         2|                         2|                     7.0|                        706|            369|               337|               123|\n|        28| 129610|              13|                     217.0|        18.083333333333332|                     155|                               98|0.36774193548387096|                       1|                        10|                        10|                     7.0|                        706|            369|               337|               123|\n|        28| 132200|              13|                     194.0|        16.166666666666668|                     128|                               41|          0.6796875|                       2|                         2|                         5|                     8.5|                        706|            369|               337|               123|\n|        28| 148815|              58|                     359.0|         6.298245614035087|                     367|                              186|0.49318801089918257|                       1|                        29|                        29|                     3.0|                        706|            369|               337|               123|\n|        28| 153664|               8|                     173.0|        24.714285714285715|                      56|                               39|0.30357142857142855|                       2|                         1|                         4|                     4.5|                        706|            369|               337|               123|\n|        28| 154139|               5|                      49.0|                     12.25|                      29|                               25|0.13793103448275862|                       1|                         1|                         1|                     6.0|                        706|            369|               337|               123|\n|        28| 170958|              13|                     206.0|        17.166666666666668|                     175|                               78| 0.5542857142857143|                       1|                         8|                         8|                    15.0|                        706|            369|               337|               123|\n|        28| 175693|              14|                     182.0|                      14.0|                     143|                               82|0.42657342657342656|                       5|                         1|                        13|                     4.4|                        706|            369|               337|               123|\n|        28| 181242|               8|                     174.0|        24.857142857142858|                      73|                               52| 0.2876712328767123|                       5|                         1|                         7|                     2.8|                        706|            369|               337|               123|\n|        28| 206094|              10|                      87.0|         9.666666666666666|                      50|                               39|               0.22|                       1|                         5|                         5|                    10.0|                        706|            369|               337|               123|\n+----------+-------+----------------+--------------------------+--------------------------+------------------------+---------------------------------+-------------------+------------------------+--------------------------+--------------------------+------------------------+---------------------------+---------------+------------------+------------------+\nonly showing top 20 rows\n",
					"output_type": "stream"
				}
			]
		},
		{
			"cell_type": "markdown",
			"source": "### final_features write to S3 destination",
			"metadata": {}
		},
		{
			"cell_type": "code",
			"source": "final_features.coalesce(1).write.option('header', 'true').mode('overwrite').csv(f's3://{bucket}/{folder}/')",
			"metadata": {
				"trusted": true
			},
			"execution_count": 14,
			"outputs": [
				{
					"name": "stdout",
					"text": "\n",
					"output_type": "stream"
				}
			]
		},
		{
			"cell_type": "code",
			"source": "# write final_features in parquet in S3\nfinal_features.coalesce(1).write.parquet(f's3://{bucket}/sprint3-final-features/')",
			"metadata": {
				"trusted": true
			},
			"execution_count": 20,
			"outputs": [
				{
					"name": "stdout",
					"text": "\n",
					"output_type": "stream"
				}
			]
		},
		{
			"cell_type": "markdown",
			"source": "#### Example: Write the data in the DynamicFrame to a location in Amazon S3 and a table for it in the AWS Glue Data Catalog\n",
			"metadata": {
				"editable": true,
				"trusted": true
			}
		},
		{
			"cell_type": "code",
			"source": "s3output = glueContext.getSink(\n  path=\"s3://bucket_name/folder_name\",\n  connection_type=\"s3\",\n  updateBehavior=\"UPDATE_IN_DATABASE\",\n  partitionKeys=[],\n  compression=\"snappy\",\n  enableUpdateCatalog=True,\n  transformation_ctx=\"s3output\",\n)\ns3output.setCatalogInfo(\n  catalogDatabase=\"demo\", catalogTableName=\"populations\"\n)\ns3output.setFormat(\"glueparquet\")\ns3output.writeFrame(DyF)",
			"metadata": {
				"editable": true,
				"trusted": true
			},
			"execution_count": null,
			"outputs": []
		}
	]
}